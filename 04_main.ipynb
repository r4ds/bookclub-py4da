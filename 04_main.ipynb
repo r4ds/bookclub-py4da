{
  "cells": [
    {
      "cell_type": "markdown",
      "metadata": {},
      "source": [
        "# 4. NumPy Basics: Arrays and Vectorized Computation\n",
        "\n",
        "## Learning Objectives\n",
        "\n",
        "- Learn about NumPy, a package for numerical computing in Python\n",
        "- Use NumPy for array-based data: operations, algorithms\n",
        "\n",
        "## Import NumPy"
      ],
      "id": "36e8a48d"
    },
    {
      "cell_type": "code",
      "metadata": {},
      "source": [
        "import numpy as np # Recommended standard NumPy convention "
      ],
      "id": "72bb8264",
      "execution_count": null,
      "outputs": []
    },
    {
      "cell_type": "markdown",
      "metadata": {},
      "source": [
        "## Array-based operations\n",
        "* A fast, flexible container for large datasets in Python\n",
        "* Stores multiple items of the same type together\n",
        "* Can perform operations on whole blocks of data with similar syntax\n",
        "\n",
        "![Image of an array with 10 length and the first index, 8th element, and indicies denoted by text](https://media.geeksforgeeks.org/wp-content/uploads/CommonArticleDesign1-min.png)\n",
        "\n",
        "::: {.panel-tabset}\n",
        "\n",
        "## Create an array"
      ],
      "id": "67121f82"
    },
    {
      "cell_type": "code",
      "metadata": {},
      "source": [
        "arr = np.array([[1.5, -0.1, 3], [0, -3, 6.5]])\n",
        "arr"
      ],
      "id": "8feb0150",
      "execution_count": null,
      "outputs": []
    },
    {
      "cell_type": "markdown",
      "metadata": {},
      "source": [
        "## Perform operation\n",
        "All of the elements have been multiplied by 10."
      ],
      "id": "65e83056"
    },
    {
      "cell_type": "code",
      "metadata": {},
      "source": [
        "arr * 10"
      ],
      "id": "f86b0c13",
      "execution_count": null,
      "outputs": []
    },
    {
      "cell_type": "markdown",
      "metadata": {},
      "source": [
        ":::\n",
        "\n",
        "* Every array has a `shape` indicating the size of each dimension\n",
        "* and a `dtype`, an object describing the data type of the array\n",
        "\n",
        "::: {.panel-tabset}\n",
        "\n",
        "## Shape"
      ],
      "id": "c31e213a"
    },
    {
      "cell_type": "code",
      "metadata": {},
      "source": [
        "arr.shape"
      ],
      "id": "8f2c157e",
      "execution_count": null,
      "outputs": []
    },
    {
      "cell_type": "markdown",
      "metadata": {},
      "source": [
        "## dtype"
      ],
      "id": "c026b84b"
    },
    {
      "cell_type": "code",
      "metadata": {},
      "source": [
        "arr.dtype"
      ],
      "id": "b582476c",
      "execution_count": null,
      "outputs": []
    },
    {
      "cell_type": "markdown",
      "metadata": {},
      "source": [
        ":::\n",
        "\n",
        "### ndarray\n",
        "\n",
        "* Generic one/multi-dimensional container where all elements are the same type\n",
        "* Created using `numpy.array` function\n",
        "\n",
        "::: {.panel-tabset}\n",
        "## 1D"
      ],
      "id": "66ce5625"
    },
    {
      "cell_type": "code",
      "metadata": {},
      "source": [
        "data1 = [6, 7.5, 8, 0, 1]\n",
        "arr1 = np.array(data1)\n",
        "arr1"
      ],
      "id": "96ba6491",
      "execution_count": null,
      "outputs": []
    },
    {
      "cell_type": "code",
      "metadata": {},
      "source": [
        "print(arr1.ndim)\n",
        "print(arr1.shape)"
      ],
      "id": "8a1e4736",
      "execution_count": null,
      "outputs": []
    },
    {
      "cell_type": "markdown",
      "metadata": {},
      "source": [
        "## Multi-dimensional"
      ],
      "id": "522d937a"
    },
    {
      "cell_type": "code",
      "metadata": {},
      "source": [
        "data2 = [[1, 2, 3, 4], [5, 6, 7, 8]]\n",
        "arr2 = np.array(data2)\n",
        "arr2"
      ],
      "id": "981d4938",
      "execution_count": null,
      "outputs": []
    },
    {
      "cell_type": "code",
      "metadata": {},
      "source": [
        "print(arr2.ndim)\n",
        "print(arr2.shape)"
      ],
      "id": "ffee45d1",
      "execution_count": null,
      "outputs": []
    },
    {
      "cell_type": "markdown",
      "metadata": {},
      "source": [
        ":::\n",
        "\n",
        "#### Special array creation\n",
        "\n",
        "* `numpy.zeros` creates an array of zeros with a given length or shape\n",
        "* `numpy.ones` creates an array of ones with a given length or shape\n",
        "* `numpy.empty` creates an array without initialized values\n",
        "* `numpy.arange` creates a range\n",
        "* Pass a tuple for the shape to create a higher dimensional array\n",
        "\n",
        "::: {.panel-tabset}\n",
        "\n",
        "## Zeros"
      ],
      "id": "800e7af3"
    },
    {
      "cell_type": "code",
      "metadata": {},
      "source": [
        "np.zeros(10)"
      ],
      "id": "b2ffd6af",
      "execution_count": null,
      "outputs": []
    },
    {
      "cell_type": "markdown",
      "metadata": {},
      "source": [
        "## Multi-dimensional"
      ],
      "id": "2c41df8e"
    },
    {
      "cell_type": "code",
      "metadata": {},
      "source": [
        "np.zeros((3, 6))"
      ],
      "id": "36458b46",
      "execution_count": null,
      "outputs": []
    },
    {
      "cell_type": "markdown",
      "metadata": {},
      "source": [
        ":::\n",
        "\n",
        "::: {.column-margin}\n",
        "`numpy.empty` does not return an array of zeros, though it may look like it."
      ],
      "id": "3d3743a4"
    },
    {
      "cell_type": "code",
      "metadata": {},
      "source": [
        "np.empty(1)"
      ],
      "id": "e338a240",
      "execution_count": null,
      "outputs": []
    },
    {
      "cell_type": "markdown",
      "metadata": {},
      "source": [
        ":::\n",
        "\n",
        "[Wes provides a table of array creation functions in the book.](https://wesmckinney.com/book/numpy-basics.html#tbl-table_array_ctor)\n",
        "\n",
        "#### Data types for ndarrays\n",
        "\n",
        "* Unless explicitly specified, `numpy.array` tries to infer a good data created arrays. \n",
        "* Data type is stored in a special `dtype` metadata object.\n",
        "* Can be explict or converted (cast)\n",
        "* It is important to care about the general kind of data you’re dealing with.\n",
        "\n",
        "::: {.panel-tabset}\n",
        "## Inferred dtype"
      ],
      "id": "c80e208b"
    },
    {
      "cell_type": "code",
      "metadata": {},
      "source": [
        "arr1.dtype"
      ],
      "id": "d2c23461",
      "execution_count": null,
      "outputs": []
    },
    {
      "cell_type": "markdown",
      "metadata": {},
      "source": [
        "## Explicit dtype"
      ],
      "id": "5e256112"
    },
    {
      "cell_type": "code",
      "metadata": {},
      "source": [
        "arr2 = np.array([1, 2, 3], dtype=np.int32)\n",
        "arr2.dtype"
      ],
      "id": "614a4574",
      "execution_count": null,
      "outputs": []
    },
    {
      "cell_type": "markdown",
      "metadata": {},
      "source": [
        "## Cast dtype"
      ],
      "id": "baab3dcf"
    },
    {
      "cell_type": "code",
      "metadata": {},
      "source": [
        "float_arr = arr1.astype(np.float64)\n",
        "float_arr.dtype"
      ],
      "id": "893d6437",
      "execution_count": null,
      "outputs": []
    },
    {
      "cell_type": "markdown",
      "metadata": {},
      "source": [
        "## Cast dtype using another array"
      ],
      "id": "81b3b80f"
    },
    {
      "cell_type": "code",
      "metadata": {},
      "source": [
        "int_array = arr1.astype(arr2.dtype)\n",
        "int_array.dtype"
      ],
      "id": "9e9a7ec5",
      "execution_count": null,
      "outputs": []
    },
    {
      "cell_type": "markdown",
      "metadata": {},
      "source": [
        ":::\n",
        "\n",
        "::: {.column-margin}\n",
        "Calling `astype` always creates a new array (a copy of the data), even if the new data type is the same as the old data type.\n",
        ":::\n",
        "\n",
        "[Wes provides a table of supported data types in the book.](https://wesmckinney.com/book/numpy-basics.html#tbl-table_array_dtypes)\n",
        "\n",
        "## Arithmetic with NumPy Arrays\n",
        "\n",
        "::: {.panel-tabset}\n",
        "## Vectorization\n",
        "\n",
        "Batch operations on data without `for` loops"
      ],
      "id": "0d239c90"
    },
    {
      "cell_type": "code",
      "metadata": {},
      "source": [
        "arr = np.array([[1., 2., 3.], [4., 5., 6.]])\n",
        "arr * arr"
      ],
      "id": "3694e6c8",
      "execution_count": null,
      "outputs": []
    },
    {
      "cell_type": "markdown",
      "metadata": {},
      "source": [
        "## Arithmetic operations with scalars \n",
        "\n",
        "Propagate the scalar argument to each element in the array"
      ],
      "id": "63647746"
    },
    {
      "cell_type": "code",
      "metadata": {},
      "source": [
        "1 / arr"
      ],
      "id": "afa629dc",
      "execution_count": null,
      "outputs": []
    },
    {
      "cell_type": "markdown",
      "metadata": {},
      "source": [
        "## Comparisons between arrays\n",
        "\n",
        "of the same size yield boolean arrays"
      ],
      "id": "1988d16f"
    },
    {
      "cell_type": "code",
      "metadata": {},
      "source": [
        "arr2 = np.array([[0., 4., 1.], [7., 2., 12.]])\n",
        "\n",
        "arr2 > arr"
      ],
      "id": "bf2da378",
      "execution_count": null,
      "outputs": []
    },
    {
      "cell_type": "markdown",
      "metadata": {},
      "source": [
        ":::\n",
        "\n",
        "## Basic Indexing and Slicing\n",
        "\n",
        "* select a subset of your data or individual elements"
      ],
      "id": "e8528243"
    },
    {
      "cell_type": "code",
      "metadata": {},
      "source": [
        "arr = np.arange(10)\n",
        "arr"
      ],
      "id": "683d9351",
      "execution_count": null,
      "outputs": []
    },
    {
      "cell_type": "markdown",
      "metadata": {},
      "source": [
        "::: {.column-margin}\n",
        "Array views are on the original data. Data is not copied, and any modifications to the view will be reflected in the source array. If you want a copy of a slice of an ndarray instead of a view, you will need to explicitly copy the array—for example, `arr[5:8].copy()`.\n",
        ":::\n",
        "\n",
        "::: {.panel-tabset}\n",
        "\n",
        "## select the sixth element"
      ],
      "id": "557a60c0"
    },
    {
      "cell_type": "code",
      "metadata": {},
      "source": [
        "arr[5]"
      ],
      "id": "4aff4abe",
      "execution_count": null,
      "outputs": []
    },
    {
      "cell_type": "markdown",
      "metadata": {},
      "source": [
        "## select sixth through eighth"
      ],
      "id": "c77255f0"
    },
    {
      "cell_type": "code",
      "metadata": {},
      "source": [
        "arr[5:8]"
      ],
      "id": "a0e9a08f",
      "execution_count": null,
      "outputs": []
    },
    {
      "cell_type": "markdown",
      "metadata": {},
      "source": [
        "## broadcast data"
      ],
      "id": "37bb7134"
    },
    {
      "cell_type": "code",
      "metadata": {},
      "source": [
        "arr[5:8] = 12"
      ],
      "id": "c986bdf1",
      "execution_count": null,
      "outputs": []
    },
    {
      "cell_type": "markdown",
      "metadata": {},
      "source": [
        ":::\n",
        "\n",
        "Example of \"not copied data\"\n",
        "\n",
        "**Original**"
      ],
      "id": "ad31f138"
    },
    {
      "cell_type": "code",
      "metadata": {},
      "source": [
        "arr_slice = arr[5:8]\n",
        "arr"
      ],
      "id": "7721719b",
      "execution_count": null,
      "outputs": []
    },
    {
      "cell_type": "markdown",
      "metadata": {},
      "source": [
        "**Change values in new array**\n",
        "\n",
        "Notice that arr is now changed."
      ],
      "id": "d6dd8f82"
    },
    {
      "cell_type": "code",
      "metadata": {},
      "source": [
        "arr_slice[1] = 123\n",
        "arr"
      ],
      "id": "00362128",
      "execution_count": null,
      "outputs": []
    },
    {
      "cell_type": "markdown",
      "metadata": {},
      "source": [
        "**Change all values in an array**\n",
        "\n",
        "This is done with bare slice `[:]`:"
      ],
      "id": "55225e27"
    },
    {
      "cell_type": "code",
      "metadata": {},
      "source": [
        "arr_slice[:] = 64\n",
        "arr_slice"
      ],
      "id": "63adec92",
      "execution_count": null,
      "outputs": []
    },
    {
      "cell_type": "markdown",
      "metadata": {},
      "source": [
        "Higher dimensional arrays have 1D arrays at each index:"
      ],
      "id": "050fa7ab"
    },
    {
      "cell_type": "code",
      "metadata": {},
      "source": [
        "arr2d = np.array([[1,2,3], [4,5,6], [7,8,9]])\n",
        "arr2d"
      ],
      "id": "28e35faa",
      "execution_count": null,
      "outputs": []
    },
    {
      "cell_type": "markdown",
      "metadata": {},
      "source": [
        "To slice, can pass a comma-separated list to select individual elements:"
      ],
      "id": "625adff4"
    },
    {
      "cell_type": "code",
      "metadata": {},
      "source": [
        "arr2d[0][2]"
      ],
      "id": "11cfd802",
      "execution_count": null,
      "outputs": []
    },
    {
      "cell_type": "markdown",
      "metadata": {},
      "source": [
        "![](https://media.geeksforgeeks.org/wp-content/uploads/Numpy1.jpg)\n",
        "\n",
        "Omitting indicies will reduce number of dimensions:"
      ],
      "id": "f18dcc37"
    },
    {
      "cell_type": "code",
      "metadata": {},
      "source": [
        "arr2d[0]"
      ],
      "id": "3cc06286",
      "execution_count": null,
      "outputs": []
    },
    {
      "cell_type": "markdown",
      "metadata": {},
      "source": [
        "Can assign scalar values or arrays:"
      ],
      "id": "4906ef34"
    },
    {
      "cell_type": "code",
      "metadata": {},
      "source": [
        "arr2d[0] = 9\n",
        "arr2d"
      ],
      "id": "ce0816dd",
      "execution_count": null,
      "outputs": []
    },
    {
      "cell_type": "markdown",
      "metadata": {},
      "source": [
        "Or create an array of the indices. This is like indexing in two steps:"
      ],
      "id": "5e683b32"
    },
    {
      "cell_type": "code",
      "metadata": {},
      "source": [
        "arr2d = np.array([[1,2,3], [4,5,6], [7,8,9]])\n",
        "arr2d[1,0]"
      ],
      "id": "cd1655c0",
      "execution_count": null,
      "outputs": []
    },
    {
      "cell_type": "markdown",
      "metadata": {},
      "source": [
        "### Indexing with slices\n",
        "\n",
        "ndarrays can be sliced with the same syntax as Python lists:"
      ],
      "id": "233cfc09"
    },
    {
      "cell_type": "code",
      "metadata": {},
      "source": [
        "arr = np.arange(10)\n",
        "\n",
        "arr[1:6]"
      ],
      "id": "e7e75c54",
      "execution_count": null,
      "outputs": []
    },
    {
      "cell_type": "markdown",
      "metadata": {},
      "source": [
        "This slices a range of elements (\"select the first row of `arr2d`\"):"
      ],
      "id": "7ff14e24"
    },
    {
      "cell_type": "code",
      "metadata": {},
      "source": [
        "# arr2d[row, column]\n",
        "arr2d[:1]"
      ],
      "id": "4b33c51a",
      "execution_count": null,
      "outputs": []
    },
    {
      "cell_type": "markdown",
      "metadata": {},
      "source": [
        "Can pass multiple indicies:"
      ],
      "id": "40e9910e"
    },
    {
      "cell_type": "code",
      "metadata": {},
      "source": [
        "arr2d[:3, :1] # colons keep the dimensions\n",
        "# arr2d[0:3, 0] # does not keep the dimensions"
      ],
      "id": "776f361b",
      "execution_count": null,
      "outputs": []
    },
    {
      "cell_type": "markdown",
      "metadata": {},
      "source": [
        "## Boolean Indexing"
      ],
      "id": "ef01139e"
    },
    {
      "cell_type": "code",
      "metadata": {},
      "source": [
        "names = np.array([\"Bob\", \"Joe\", \"Will\", \"Bob\", \"Will\", \"Joe\", \"Joe\"])\n",
        "names"
      ],
      "id": "725fda7e",
      "execution_count": null,
      "outputs": []
    },
    {
      "cell_type": "code",
      "metadata": {},
      "source": [
        "data = np.array([[4, 7], [0, 2], [-5, 6], [0, 0], [1, 2], [-12, -4], [3, 4]])\n",
        "data"
      ],
      "id": "8856def7",
      "execution_count": null,
      "outputs": []
    },
    {
      "cell_type": "markdown",
      "metadata": {},
      "source": [
        "Like arithmetic operations, comparisons (such as `==`) with arrays are also vectorized. "
      ],
      "id": "6e4173e4"
    },
    {
      "cell_type": "code",
      "metadata": {},
      "source": [
        "names == \"Bob\""
      ],
      "id": "db7c6ddf",
      "execution_count": null,
      "outputs": []
    },
    {
      "cell_type": "markdown",
      "metadata": {},
      "source": [
        "This boolean array can be passed when indexing the array:"
      ],
      "id": "06312984"
    },
    {
      "cell_type": "code",
      "metadata": {},
      "source": [
        "data[names == \"Bob\"]"
      ],
      "id": "e49a3b9d",
      "execution_count": null,
      "outputs": []
    },
    {
      "cell_type": "markdown",
      "metadata": {},
      "source": [
        "Select from the rows where names == \"Bob\" and index the columns, too:"
      ],
      "id": "c92caec3"
    },
    {
      "cell_type": "code",
      "metadata": {},
      "source": [
        "data[names == \"Bob\", 1:]"
      ],
      "id": "28c22c16",
      "execution_count": null,
      "outputs": []
    },
    {
      "cell_type": "markdown",
      "metadata": {},
      "source": [
        "Select everything but \"Bob\":"
      ],
      "id": "74e4be8f"
    },
    {
      "cell_type": "code",
      "metadata": {},
      "source": [
        "names != \"Bob\" # or ~(names == \"Bob\")"
      ],
      "id": "9565f0e0",
      "execution_count": null,
      "outputs": []
    },
    {
      "cell_type": "markdown",
      "metadata": {},
      "source": [
        "Use boolean arithmetic operators like `&` (and) and `|` (or):"
      ],
      "id": "ab4b5822"
    },
    {
      "cell_type": "code",
      "metadata": {},
      "source": [
        "mask = (names == \"Bob\") | (names == \"Will\")\n",
        "mask"
      ],
      "id": "a1fb7ae3",
      "execution_count": null,
      "outputs": []
    },
    {
      "cell_type": "markdown",
      "metadata": {},
      "source": [
        ":::{.column-margin}\n",
        "Selecting data from an array by boolean indexing and assigning the result to a new variable always creates a copy of the data.\n",
        ":::\n",
        "\n",
        "Setting values with boolean arrays works by substituting the value or values on the righthand side into the locations where the boolean array's values are `True`."
      ],
      "id": "5d08ba8a"
    },
    {
      "cell_type": "code",
      "metadata": {},
      "source": [
        "data[data < 0] = 0"
      ],
      "id": "918d8d87",
      "execution_count": null,
      "outputs": []
    },
    {
      "cell_type": "markdown",
      "metadata": {},
      "source": [
        "You can also set whole rows or columns using a one-dimensional boolean array:"
      ],
      "id": "dfc5037b"
    },
    {
      "cell_type": "code",
      "metadata": {},
      "source": [
        "data[names != \"Joe\"] = 7"
      ],
      "id": "0b16939e",
      "execution_count": null,
      "outputs": []
    },
    {
      "cell_type": "markdown",
      "metadata": {},
      "source": [
        "## Fancy Indexing\n",
        "\n",
        "A term adopted by NumPy to describe indexing using integer arrays."
      ],
      "id": "dc0217b0"
    },
    {
      "cell_type": "code",
      "metadata": {},
      "source": [
        "arr = np.zeros((8, 4)) # 8 × 4 array\n",
        "\n",
        "for i in range(8):\n",
        "  arr[i] = i\n",
        "\n",
        "arr"
      ],
      "id": "9f66518e",
      "execution_count": null,
      "outputs": []
    },
    {
      "cell_type": "markdown",
      "metadata": {},
      "source": [
        "Pass a list or ndarray of integers specifying the desired order to subset rows in a particular order:"
      ],
      "id": "3c81f85c"
    },
    {
      "cell_type": "code",
      "metadata": {},
      "source": [
        "arr[[4, 3, 0, 6]]"
      ],
      "id": "dbde233c",
      "execution_count": null,
      "outputs": []
    },
    {
      "cell_type": "markdown",
      "metadata": {},
      "source": [
        "Use negative indices selects rows from the end:"
      ],
      "id": "705e8215"
    },
    {
      "cell_type": "code",
      "metadata": {},
      "source": [
        "arr[[-3, -5, -7]]"
      ],
      "id": "ca0b5aff",
      "execution_count": null,
      "outputs": []
    },
    {
      "cell_type": "markdown",
      "metadata": {},
      "source": [
        "Passing multiple index arrays selects a one-dimensional array of elements corresponding to each tuple of indices (go down then across):"
      ],
      "id": "f556c785"
    },
    {
      "cell_type": "code",
      "metadata": {},
      "source": [
        "arr = np.arange(32).reshape((8, 4))\n",
        "arr"
      ],
      "id": "0e407266",
      "execution_count": null,
      "outputs": []
    },
    {
      "cell_type": "markdown",
      "metadata": {},
      "source": [
        "Here, the elements (1, 0), (5, 3), (7, 1), and (2, 2) are selected."
      ],
      "id": "5dcabf25"
    },
    {
      "cell_type": "code",
      "metadata": {},
      "source": [
        "arr[[1, 5, 7, 2], [0, 3, 1, 2]]"
      ],
      "id": "8922d00f",
      "execution_count": null,
      "outputs": []
    },
    {
      "cell_type": "markdown",
      "metadata": {},
      "source": [
        ":::{.column-margin}\n",
        "Fancy indexing, unlike slicing, always copies the data into a new array when assigning the result to a new variable.\n",
        ":::\n",
        "\n",
        "## Transposing Arrays and Swapping Axes\n",
        "\n",
        "Transposing is a special form of reshaping using the special `T` attribute:"
      ],
      "id": "75ffc13f"
    },
    {
      "cell_type": "code",
      "metadata": {},
      "source": [
        "arr = np.arange(15).reshape((3, 5))\n",
        "arr"
      ],
      "id": "ce2b280b",
      "execution_count": null,
      "outputs": []
    },
    {
      "cell_type": "code",
      "metadata": {},
      "source": [
        "arr.T"
      ],
      "id": "cc78c511",
      "execution_count": null,
      "outputs": []
    },
    {
      "cell_type": "markdown",
      "metadata": {},
      "source": [
        "### Matrix multiplication\n",
        "\n",
        ":::{.panel-tabset}\n",
        "## using `T`"
      ],
      "id": "f76eebb8"
    },
    {
      "cell_type": "code",
      "metadata": {},
      "source": [
        "np.dot(arr.T, arr)"
      ],
      "id": "b1353226",
      "execution_count": null,
      "outputs": []
    },
    {
      "cell_type": "markdown",
      "metadata": {},
      "source": [
        "## using `@` infix operator"
      ],
      "id": "6bd68369"
    },
    {
      "cell_type": "code",
      "metadata": {},
      "source": [
        "arr.T @ arr"
      ],
      "id": "d461b606",
      "execution_count": null,
      "outputs": []
    },
    {
      "cell_type": "markdown",
      "metadata": {},
      "source": [
        ":::\n",
        "\n",
        "ndarray has the method `swapaxes`, which takes a pair of axis numbers and switches the indicated axes to rearrange the data:"
      ],
      "id": "4af47b05"
    },
    {
      "cell_type": "code",
      "metadata": {},
      "source": [
        "arr = np.array([[0, 1, 0], [1, 2, -2], [6, 3, 2], [-1, 0, -1], [1, 0, 1], [3, 5, 6]])\n",
        "arr\n",
        "arr.swapaxes(0, 1)"
      ],
      "id": "95ae8254",
      "execution_count": null,
      "outputs": []
    },
    {
      "cell_type": "markdown",
      "metadata": {},
      "source": [
        "## Pseudorandom Number Generation\n",
        "\n",
        "The `numpy.random` module supplements the built-in Python random module with functions for efficiently generating whole arrays of sample values from many kinds of probability distributions.\n",
        "\n",
        "* Much faster than Python's built-in `random` module"
      ],
      "id": "939c805e"
    },
    {
      "cell_type": "code",
      "metadata": {},
      "source": [
        "samples = np.random.standard_normal(size=(4, 4))\n",
        "samples"
      ],
      "id": "aa55d077",
      "execution_count": null,
      "outputs": []
    },
    {
      "cell_type": "markdown",
      "metadata": {},
      "source": [
        "Can use an explicit generator:\n",
        "\n",
        "* `seed` determines initial state of generator"
      ],
      "id": "a29ef8e8"
    },
    {
      "cell_type": "code",
      "metadata": {},
      "source": [
        "rng = np.random.default_rng(seed=12345)\n",
        "data = rng.standard_normal((2, 3))\n",
        "data"
      ],
      "id": "4f9bd512",
      "execution_count": null,
      "outputs": []
    },
    {
      "cell_type": "markdown",
      "metadata": {},
      "source": [
        "[Wes provides a table of NumPy random number generator methods](https://wesmckinney.com/book/numpy-basics.html#tbl-table_numpy_random)\n",
        "\n",
        "## Universal Functions: Fast Element-Wise Array Functions\n",
        "\n",
        "A universal function, or ufunc, is a function that performs element-wise operations on data in ndarrays.\n",
        "\n",
        "Many ufuncs are simple element-wise transformations:\n",
        "\n",
        ":::{.panel-tabset}\n",
        "## unary \n",
        "One array"
      ],
      "id": "db19dc85"
    },
    {
      "cell_type": "code",
      "metadata": {},
      "source": [
        "arr = np.arange(10)\n",
        "np.sqrt(arr)"
      ],
      "id": "057b42c6",
      "execution_count": null,
      "outputs": []
    },
    {
      "cell_type": "markdown",
      "metadata": {},
      "source": [
        "## binary"
      ],
      "id": "9f3716ab"
    },
    {
      "cell_type": "code",
      "metadata": {},
      "source": [
        "arr1 = rng.standard_normal(10)\n",
        "arr2 = rng.standard_normal(10)\n",
        "np.maximum(arr1, arr2)"
      ],
      "id": "c8a2dae9",
      "execution_count": null,
      "outputs": []
    },
    {
      "cell_type": "markdown",
      "metadata": {},
      "source": [
        "## multiple"
      ],
      "id": "ec3b036c"
    },
    {
      "cell_type": "code",
      "metadata": {},
      "source": [
        "remainder, whole_part = np.modf(arr1)\n",
        "remainder"
      ],
      "id": "5a942982",
      "execution_count": null,
      "outputs": []
    },
    {
      "cell_type": "markdown",
      "metadata": {},
      "source": [
        ":::\n",
        "\n",
        "Use the `out` argument to assign results into an existing array rather than create a new one:"
      ],
      "id": "c1b0e9b8"
    },
    {
      "cell_type": "code",
      "metadata": {},
      "source": [
        "out = np.zeros_like(arr)\n",
        "np.add(arr, 1, out=out)"
      ],
      "id": "52eab20a",
      "execution_count": null,
      "outputs": []
    },
    {
      "cell_type": "markdown",
      "metadata": {},
      "source": [
        "## Array-Oriented Programming with Arrays\n",
        "\n",
        "Evaluate the function `sqrt(x^2 + y^2)` across a regular grid of values: use the `numpy.meshgrid` function takes two one-dimensional arrays and produce two two-dimensional matrices corresponding to all pairs of (x, y) in the two arrays:"
      ],
      "id": "67760d29"
    },
    {
      "cell_type": "code",
      "metadata": {},
      "source": [
        "points = np.arange(-5, 5, 0.01) # 100 equally spaced points\n",
        "xs, ys = np.meshgrid(points, points)\n",
        "xs"
      ],
      "id": "39ab37e0",
      "execution_count": null,
      "outputs": []
    },
    {
      "cell_type": "code",
      "metadata": {},
      "source": [
        "ys"
      ],
      "id": "4053a222",
      "execution_count": null,
      "outputs": []
    },
    {
      "cell_type": "markdown",
      "metadata": {},
      "source": [
        "Evaluate the function as if it were two points:"
      ],
      "id": "5786da77"
    },
    {
      "cell_type": "code",
      "metadata": {},
      "source": [
        "z = np.sqrt(xs ** 2 + ys ** 2)\n",
        "z"
      ],
      "id": "079330ec",
      "execution_count": null,
      "outputs": []
    },
    {
      "cell_type": "markdown",
      "metadata": {},
      "source": [
        "### Bonus: matplotlib visualization"
      ],
      "id": "3f6a346c"
    },
    {
      "cell_type": "code",
      "metadata": {},
      "source": [
        "import matplotlib.pyplot as plt\n",
        "\n",
        "plt.imshow(z, cmap=plt.cm.gray)  #, extent=[-25, 10, -10, 10])\n",
        "plt.colorbar() \n",
        "plt.title(\"Image plot of $\\sqrt{x^2 + y^2}$ for a grid of values\")"
      ],
      "id": "5d3447cc",
      "execution_count": null,
      "outputs": []
    },
    {
      "cell_type": "code",
      "metadata": {},
      "source": [
        "plt.close(\"all\")"
      ],
      "id": "6de9dfed",
      "execution_count": null,
      "outputs": []
    },
    {
      "cell_type": "markdown",
      "metadata": {},
      "source": [
        "## Expressing Conditional Logic as Array Operations\n",
        "\n",
        "The `numpy.where` function is a vectorized version of the ternary expression `x if condition else`.\n",
        "\n",
        "* second and third arguments to `numpy.where` can also be scalars\n",
        "* can also combine scalars and arrays"
      ],
      "id": "16695564"
    },
    {
      "cell_type": "code",
      "metadata": {},
      "source": [
        "xarr = np.array([1.1, 1.2, 1.3, 1.4, 1.5])\n",
        "yarr = np.array([2.1, 2.2, 2.3, 2.4, 2.5])\n",
        "cond = np.array([True, False, True, True, False])"
      ],
      "id": "ab090ed8",
      "execution_count": null,
      "outputs": []
    },
    {
      "cell_type": "markdown",
      "metadata": {},
      "source": [
        "Take a value from `xarr` whenever the corresponding value in `cond` is `True`, and otherwise take the value from `yarr`:\n",
        "\n",
        ":::{.panel-tabset}\n",
        "\n",
        "## `x if condition else`"
      ],
      "id": "8d8b631b"
    },
    {
      "cell_type": "code",
      "metadata": {},
      "source": [
        "result = [(x if c else y)\n",
        "  for x, y, c in zip(xarr, yarr, cond)]\n",
        "  \n",
        "result"
      ],
      "id": "1b19f28c",
      "execution_count": null,
      "outputs": []
    },
    {
      "cell_type": "markdown",
      "metadata": {},
      "source": [
        "## `numpy.where`"
      ],
      "id": "eb0042f9"
    },
    {
      "cell_type": "code",
      "metadata": {},
      "source": [
        "result = np.where(cond, xarr, yarr)\n",
        "result"
      ],
      "id": "ce4a2451",
      "execution_count": null,
      "outputs": []
    },
    {
      "cell_type": "markdown",
      "metadata": {},
      "source": [
        ":::\n",
        "\n",
        "Can also do this with scalars, or combine arrays and scalars:"
      ],
      "id": "a34e1bfe"
    },
    {
      "cell_type": "code",
      "metadata": {},
      "source": [
        "arr = rng.standard_normal((4,4))\n",
        "arr"
      ],
      "id": "12087de7",
      "execution_count": null,
      "outputs": []
    },
    {
      "cell_type": "code",
      "metadata": {},
      "source": [
        "np.where(arr > 0, 2, -2)"
      ],
      "id": "a10b78d2",
      "execution_count": null,
      "outputs": []
    },
    {
      "cell_type": "code",
      "metadata": {},
      "source": [
        "# set only positive to 2\n",
        "np.where(arr > 0,2,arr)"
      ],
      "id": "931daf7c",
      "execution_count": null,
      "outputs": []
    },
    {
      "cell_type": "markdown",
      "metadata": {},
      "source": [
        "## Mathematical and Statistical Methods\n",
        "\n",
        "Use \"aggregations' like `sum`, `mean`, and `std`\n",
        "\n",
        "* If using NumPy, must pass the array you want to aggregate as the first argument"
      ],
      "id": "2bfe9599"
    },
    {
      "cell_type": "code",
      "metadata": {},
      "source": [
        "arr = rng.standard_normal((5, 4))\n",
        "\n",
        "arr.mean()"
      ],
      "id": "958b59da",
      "execution_count": null,
      "outputs": []
    },
    {
      "cell_type": "code",
      "metadata": {},
      "source": [
        "np.mean(arr)"
      ],
      "id": "e84fd38c",
      "execution_count": null,
      "outputs": []
    },
    {
      "cell_type": "markdown",
      "metadata": {},
      "source": [
        "Can use `axis` to specify which axis to computer the statistic\n",
        "\n",
        ":::{.panel-tabset}\n",
        "\n",
        "## \"compute across the columns\""
      ],
      "id": "8ac294f1"
    },
    {
      "cell_type": "code",
      "metadata": {},
      "source": [
        "arr.mean(axis=1)"
      ],
      "id": "173cabf7",
      "execution_count": null,
      "outputs": []
    },
    {
      "cell_type": "markdown",
      "metadata": {},
      "source": [
        "## \"compute across the rows\""
      ],
      "id": "51ea96b7"
    },
    {
      "cell_type": "code",
      "metadata": {},
      "source": [
        "arr.mean(axis=0)"
      ],
      "id": "7e03bd85",
      "execution_count": null,
      "outputs": []
    },
    {
      "cell_type": "markdown",
      "metadata": {},
      "source": [
        ":::\n",
        "\n",
        "Other methods like cumsum and cumprod do not aggregate, instead producing an array of the intermediate results:"
      ],
      "id": "a9feda88"
    },
    {
      "cell_type": "code",
      "metadata": {},
      "source": [
        "arr.cumsum()"
      ],
      "id": "658fe6cc",
      "execution_count": null,
      "outputs": []
    },
    {
      "cell_type": "markdown",
      "metadata": {},
      "source": [
        "In multidimensional arrays, accumulation functions like cumsum compute along the indicated axis:\n",
        "\n",
        ":::{.panel-tabset}\n",
        "\n",
        "## \"compute across the columns\""
      ],
      "id": "431eb579"
    },
    {
      "cell_type": "code",
      "metadata": {},
      "source": [
        "arr.cumsum(axis=1)"
      ],
      "id": "ffbd76d7",
      "execution_count": null,
      "outputs": []
    },
    {
      "cell_type": "markdown",
      "metadata": {},
      "source": [
        "## \"compute across the rows\""
      ],
      "id": "8d7da053"
    },
    {
      "cell_type": "code",
      "metadata": {},
      "source": [
        "arr.cumsum(axis=0)"
      ],
      "id": "c0162d70",
      "execution_count": null,
      "outputs": []
    },
    {
      "cell_type": "markdown",
      "metadata": {},
      "source": [
        ":::\n",
        "\n",
        "## Methods for Boolean Arrays\n",
        "\n",
        "Boolean values are coerced to 1 (`True`) and 0 (`False`) in the preceding methods. Thus, sum is often used as a means of counting True values in a boolean array:"
      ],
      "id": "73a2f1c5"
    },
    {
      "cell_type": "code",
      "metadata": {},
      "source": [
        "(arr > 0).sum() # Number of positive values"
      ],
      "id": "2b7bd88d",
      "execution_count": null,
      "outputs": []
    },
    {
      "cell_type": "markdown",
      "metadata": {},
      "source": [
        "`any` tests whether one or more values in an array is True, while `all` checks if every value is True:"
      ],
      "id": "32109c52"
    },
    {
      "cell_type": "code",
      "metadata": {},
      "source": [
        "bools = np.array([False, False, True, False])\n",
        "bools.any()"
      ],
      "id": "9eba8fb0",
      "execution_count": null,
      "outputs": []
    },
    {
      "cell_type": "markdown",
      "metadata": {},
      "source": [
        "## Sorting\n",
        "\n",
        "NumPy arrays can be sorted in place with the `sort` method:"
      ],
      "id": "dbdf06fd"
    },
    {
      "cell_type": "code",
      "metadata": {},
      "source": [
        "arr = rng.standard_normal(6)\n",
        "arr.sort()\n",
        "arr"
      ],
      "id": "e065c13d",
      "execution_count": null,
      "outputs": []
    },
    {
      "cell_type": "markdown",
      "metadata": {},
      "source": [
        "Can sort multidimensional section by providing an axis:"
      ],
      "id": "49e329f9"
    },
    {
      "cell_type": "code",
      "metadata": {},
      "source": [
        "arr = rng.standard_normal((5, 3))"
      ],
      "id": "d1de6d86",
      "execution_count": null,
      "outputs": []
    },
    {
      "cell_type": "markdown",
      "metadata": {},
      "source": [
        ":::{.panel-tabset}\n",
        "## \"compute across the columns\""
      ],
      "id": "812e861b"
    },
    {
      "cell_type": "code",
      "metadata": {},
      "source": [
        "arr.cumsum(axis=1)"
      ],
      "id": "54feaf35",
      "execution_count": null,
      "outputs": []
    },
    {
      "cell_type": "markdown",
      "metadata": {},
      "source": [
        "## \"compute across the rows\""
      ],
      "id": "4e37da9f"
    },
    {
      "cell_type": "code",
      "metadata": {},
      "source": [
        "arr.cumsum(axis=0)"
      ],
      "id": "a2ef33c6",
      "execution_count": null,
      "outputs": []
    },
    {
      "cell_type": "markdown",
      "metadata": {},
      "source": [
        ":::\n",
        "\n",
        "The top-level method `numpy.sort` returns a sorted copy of an array (like the Python built-in function `sorted`) instead of modifying the array in place:"
      ],
      "id": "3ac546ab"
    },
    {
      "cell_type": "code",
      "metadata": {},
      "source": [
        "arr2 = np.array([5, -10, 7, 1, 0, -3])\n",
        "sorted_arr2 = np.sort(arr2)\n",
        "sorted_arr2"
      ],
      "id": "98d0dc16",
      "execution_count": null,
      "outputs": []
    },
    {
      "cell_type": "markdown",
      "metadata": {},
      "source": [
        "## Unique and Other Set Logic\n",
        "\n",
        "`numpy.unique` returns the sorted unique values in an array:"
      ],
      "id": "75df2bda"
    },
    {
      "cell_type": "code",
      "metadata": {},
      "source": [
        "np.unique(names)"
      ],
      "id": "b657b598",
      "execution_count": null,
      "outputs": []
    },
    {
      "cell_type": "markdown",
      "metadata": {},
      "source": [
        "`numpy.in1d` tests membership of the values in one array in another, returning a boolean array:"
      ],
      "id": "1e0d8051"
    },
    {
      "cell_type": "code",
      "metadata": {},
      "source": [
        "np.in1d(arr1, arr2)"
      ],
      "id": "bca86496",
      "execution_count": null,
      "outputs": []
    },
    {
      "cell_type": "markdown",
      "metadata": {},
      "source": [
        "## File Input and Output with Arrays\n",
        "\n",
        "NumPy is able to save `np.save` and load `np.load` data to and from disk in some text or binary formats.\n",
        "\n",
        "Arrays are saved by default in an uncompressed raw binary format with file extension .npy:"
      ],
      "id": "52784b77"
    },
    {
      "cell_type": "code",
      "metadata": {},
      "source": [
        "arr = np.arange(10)\n",
        "np.save(\"some_array\", arr)"
      ],
      "id": "c5c1bebc",
      "execution_count": null,
      "outputs": []
    },
    {
      "cell_type": "code",
      "metadata": {},
      "source": [
        "np.load(\"some_array.npy\")"
      ],
      "id": "28287d6a",
      "execution_count": null,
      "outputs": []
    },
    {
      "cell_type": "markdown",
      "metadata": {},
      "source": [
        "* Save multiple arrays in an uncompressed archive using `numpy.savez`\n",
        "* If your data compresses well, use `numpy.savez_compressed` instead\n",
        "\n",
        "## 4.6 Linear Algebra\n",
        "\n",
        "Linear algebra operations, like matrix multiplication, decompositions, determinants, and other square matrix math, can be done with Numpy (`np.dot(y)` vs `x.dot(y)`):"
      ],
      "id": "a2716ccb"
    },
    {
      "cell_type": "code",
      "metadata": {},
      "source": [
        "np.dot(arr1, arr)"
      ],
      "id": "345dbb20",
      "execution_count": null,
      "outputs": []
    },
    {
      "cell_type": "markdown",
      "metadata": {},
      "source": [
        "## Example: Random Walks"
      ],
      "id": "a21c4dfb"
    },
    {
      "cell_type": "code",
      "metadata": {},
      "source": [
        "import matplotlib.pyplot as plt\n",
        "#! blockstart\n",
        "import random\n",
        "position = 0\n",
        "walk = [position]\n",
        "nsteps = 1000\n",
        "for _ in range(nsteps):\n",
        "    step = 1 if random.randint(0, 1) else -1\n",
        "    position += step\n",
        "    walk.append(position)\n",
        "#! blockend\n",
        "\n",
        "plt.plot(walk[:100])\n",
        "plt.show()"
      ],
      "id": "4e859266",
      "execution_count": null,
      "outputs": []
    }
  ],
  "metadata": {
    "kernelspec": {
      "display_name": "Python 3",
      "language": "python",
      "name": "python3"
    }
  },
  "nbformat": 4,
  "nbformat_minor": 5
}