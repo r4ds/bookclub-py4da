{
 "cells": [
  {
   "cell_type": "markdown",
   "id": "6dfacd91",
   "metadata": {},
   "source": [
    "# Notes {-}"
   ]
  },
  {
   "cell_type": "code",
   "execution_count": 1,
   "id": "d45e4a69",
   "metadata": {
    "scrolled": true
   },
   "outputs": [],
   "source": [
    "import numpy as np \n",
    "import pandas as pd \n",
    "import patsy\n",
    "import statsmodels.api as sm\n",
    "import statsmodels.formula.api as smf\n",
    "from statsmodels.tsa.ar_model import AutoReg\n",
    "from sklearn.model_selection import train_test_split\n",
    "from sklearn.linear_model import LinearRegression\n",
    "import matplotlib.pyplot as plot\n",
    "from yellowbrick.regressor import prediction_error"
   ]
  },
  {
   "cell_type": "markdown",
   "id": "a8161956",
   "metadata": {},
   "source": [
    "## Introduction to Modeling Libraries in Python\n",
    "\n",
    "* Use different libraries depending on the application\n",
    "\n",
    "## Interfacing Between pandas and Model Code\n",
    "\n",
    "* Pandas for data loading and cleaning\n",
    "* Modeling library for building model"
   ]
  },
  {
   "cell_type": "code",
   "execution_count": 2,
   "id": "d7bba33f",
   "metadata": {},
   "outputs": [
    {
     "data": {
      "text/html": [
       "<div>\n",
       "<style scoped>\n",
       "    .dataframe tbody tr th:only-of-type {\n",
       "        vertical-align: middle;\n",
       "    }\n",
       "\n",
       "    .dataframe tbody tr th {\n",
       "        vertical-align: top;\n",
       "    }\n",
       "\n",
       "    .dataframe thead th {\n",
       "        text-align: right;\n",
       "    }\n",
       "</style>\n",
       "<table border=\"1\" class=\"dataframe\">\n",
       "  <thead>\n",
       "    <tr style=\"text-align: right;\">\n",
       "      <th></th>\n",
       "      <th>country</th>\n",
       "      <th>country_code</th>\n",
       "      <th>region</th>\n",
       "      <th>income_group</th>\n",
       "      <th>year</th>\n",
       "      <th>life_expectancy</th>\n",
       "    </tr>\n",
       "  </thead>\n",
       "  <tbody>\n",
       "    <tr>\n",
       "      <th>187</th>\n",
       "      <td>Poland</td>\n",
       "      <td>POL</td>\n",
       "      <td>Europe &amp; Central Asia</td>\n",
       "      <td>High income</td>\n",
       "      <td>1960</td>\n",
       "      <td>67.680488</td>\n",
       "    </tr>\n",
       "    <tr>\n",
       "      <th>248</th>\n",
       "      <td>United States</td>\n",
       "      <td>USA</td>\n",
       "      <td>North America</td>\n",
       "      <td>High income</td>\n",
       "      <td>1960</td>\n",
       "      <td>69.770732</td>\n",
       "    </tr>\n",
       "    <tr>\n",
       "      <th>444</th>\n",
       "      <td>Pakistan</td>\n",
       "      <td>PAK</td>\n",
       "      <td>South Asia</td>\n",
       "      <td>Lower middle income</td>\n",
       "      <td>1961</td>\n",
       "      <td>46.223220</td>\n",
       "    </tr>\n",
       "    <tr>\n",
       "      <th>274</th>\n",
       "      <td>Australia</td>\n",
       "      <td>AUS</td>\n",
       "      <td>East Asia &amp; Pacific</td>\n",
       "      <td>High income</td>\n",
       "      <td>1961</td>\n",
       "      <td>70.973171</td>\n",
       "    </tr>\n",
       "    <tr>\n",
       "      <th>367</th>\n",
       "      <td>Indonesia</td>\n",
       "      <td>IDN</td>\n",
       "      <td>East Asia &amp; Pacific</td>\n",
       "      <td>Lower middle income</td>\n",
       "      <td>1961</td>\n",
       "      <td>49.269805</td>\n",
       "    </tr>\n",
       "    <tr>\n",
       "      <th>...</th>\n",
       "      <td>...</td>\n",
       "      <td>...</td>\n",
       "      <td>...</td>\n",
       "      <td>...</td>\n",
       "      <td>...</td>\n",
       "      <td>...</td>\n",
       "    </tr>\n",
       "    <tr>\n",
       "      <th>14254</th>\n",
       "      <td>Czech Republic</td>\n",
       "      <td>CZE</td>\n",
       "      <td>Europe &amp; Central Asia</td>\n",
       "      <td>High income</td>\n",
       "      <td>2014</td>\n",
       "      <td>78.824390</td>\n",
       "    </tr>\n",
       "    <tr>\n",
       "      <th>14368</th>\n",
       "      <td>Malaysia</td>\n",
       "      <td>MYS</td>\n",
       "      <td>East Asia &amp; Pacific</td>\n",
       "      <td>Upper middle income</td>\n",
       "      <td>2014</td>\n",
       "      <td>74.718293</td>\n",
       "    </tr>\n",
       "    <tr>\n",
       "      <th>14235</th>\n",
       "      <td>Canada</td>\n",
       "      <td>CAN</td>\n",
       "      <td>North America</td>\n",
       "      <td>High income</td>\n",
       "      <td>2014</td>\n",
       "      <td>81.956610</td>\n",
       "    </tr>\n",
       "    <tr>\n",
       "      <th>14381</th>\n",
       "      <td>Oman</td>\n",
       "      <td>OMN</td>\n",
       "      <td>Middle East &amp; North Africa</td>\n",
       "      <td>High income</td>\n",
       "      <td>2014</td>\n",
       "      <td>77.085098</td>\n",
       "    </tr>\n",
       "    <tr>\n",
       "      <th>14509</th>\n",
       "      <td>Comoros</td>\n",
       "      <td>COM</td>\n",
       "      <td>Sub-Saharan Africa</td>\n",
       "      <td>Low income</td>\n",
       "      <td>2015</td>\n",
       "      <td>63.554024</td>\n",
       "    </tr>\n",
       "  </tbody>\n",
       "</table>\n",
       "<p>140 rows × 6 columns</p>\n",
       "</div>"
      ],
      "text/plain": [
       "              country country_code                      region  \\\n",
       "187            Poland          POL       Europe & Central Asia   \n",
       "248     United States          USA               North America   \n",
       "444          Pakistan          PAK                  South Asia   \n",
       "274         Australia          AUS         East Asia & Pacific   \n",
       "367         Indonesia          IDN         East Asia & Pacific   \n",
       "...               ...          ...                         ...   \n",
       "14254  Czech Republic          CZE       Europe & Central Asia   \n",
       "14368        Malaysia          MYS         East Asia & Pacific   \n",
       "14235          Canada          CAN               North America   \n",
       "14381            Oman          OMN  Middle East & North Africa   \n",
       "14509         Comoros          COM          Sub-Saharan Africa   \n",
       "\n",
       "              income_group  year  life_expectancy  \n",
       "187            High income  1960        67.680488  \n",
       "248            High income  1960        69.770732  \n",
       "444    Lower middle income  1961        46.223220  \n",
       "274            High income  1961        70.973171  \n",
       "367    Lower middle income  1961        49.269805  \n",
       "...                    ...   ...              ...  \n",
       "14254          High income  2014        78.824390  \n",
       "14368  Upper middle income  2014        74.718293  \n",
       "14235          High income  2014        81.956610  \n",
       "14381          High income  2014        77.085098  \n",
       "14509           Low income  2015        63.554024  \n",
       "\n",
       "[140 rows x 6 columns]"
      ]
     },
     "execution_count": 2,
     "metadata": {},
     "output_type": "execute_result"
    }
   ],
   "source": [
    "df = pd.read_excel(\"data/Life Expectancy at Birth.xlsx\", engine=\"openpyxl\")\n",
    "df.dropna(inplace=True)\n",
    "df.columns = df.columns.map(lambda row: \"_\".join(row.lower().split(\" \")))\n",
    "sample = df.groupby(\"region\").sample(n=20).sort_values(by=\"year\")\n",
    "sample"
   ]
  },
  {
   "cell_type": "code",
   "execution_count": 52,
   "id": "da90e1ce",
   "metadata": {},
   "outputs": [
    {
     "data": {
      "text/html": [
       "<div>\n",
       "<style scoped>\n",
       "    .dataframe tbody tr th:only-of-type {\n",
       "        vertical-align: middle;\n",
       "    }\n",
       "\n",
       "    .dataframe tbody tr th {\n",
       "        vertical-align: top;\n",
       "    }\n",
       "\n",
       "    .dataframe thead th {\n",
       "        text-align: right;\n",
       "    }\n",
       "</style>\n",
       "<table border=\"1\" class=\"dataframe\">\n",
       "  <thead>\n",
       "    <tr style=\"text-align: right;\">\n",
       "      <th></th>\n",
       "      <th>year</th>\n",
       "      <th>life_expectancy</th>\n",
       "    </tr>\n",
       "  </thead>\n",
       "  <tbody>\n",
       "    <tr>\n",
       "      <th>187</th>\n",
       "      <td>1960</td>\n",
       "      <td>67.680488</td>\n",
       "    </tr>\n",
       "    <tr>\n",
       "      <th>248</th>\n",
       "      <td>1960</td>\n",
       "      <td>69.770732</td>\n",
       "    </tr>\n",
       "    <tr>\n",
       "      <th>444</th>\n",
       "      <td>1961</td>\n",
       "      <td>46.223220</td>\n",
       "    </tr>\n",
       "    <tr>\n",
       "      <th>274</th>\n",
       "      <td>1961</td>\n",
       "      <td>70.973171</td>\n",
       "    </tr>\n",
       "    <tr>\n",
       "      <th>367</th>\n",
       "      <td>1961</td>\n",
       "      <td>49.269805</td>\n",
       "    </tr>\n",
       "    <tr>\n",
       "      <th>...</th>\n",
       "      <td>...</td>\n",
       "      <td>...</td>\n",
       "    </tr>\n",
       "    <tr>\n",
       "      <th>14254</th>\n",
       "      <td>2014</td>\n",
       "      <td>78.824390</td>\n",
       "    </tr>\n",
       "    <tr>\n",
       "      <th>14368</th>\n",
       "      <td>2014</td>\n",
       "      <td>74.718293</td>\n",
       "    </tr>\n",
       "    <tr>\n",
       "      <th>14235</th>\n",
       "      <td>2014</td>\n",
       "      <td>81.956610</td>\n",
       "    </tr>\n",
       "    <tr>\n",
       "      <th>14381</th>\n",
       "      <td>2014</td>\n",
       "      <td>77.085098</td>\n",
       "    </tr>\n",
       "    <tr>\n",
       "      <th>14509</th>\n",
       "      <td>2015</td>\n",
       "      <td>63.554024</td>\n",
       "    </tr>\n",
       "  </tbody>\n",
       "</table>\n",
       "<p>140 rows × 2 columns</p>\n",
       "</div>"
      ],
      "text/plain": [
       "       year  life_expectancy\n",
       "187    1960        67.680488\n",
       "248    1960        69.770732\n",
       "444    1961        46.223220\n",
       "274    1961        70.973171\n",
       "367    1961        49.269805\n",
       "...     ...              ...\n",
       "14254  2014        78.824390\n",
       "14368  2014        74.718293\n",
       "14235  2014        81.956610\n",
       "14381  2014        77.085098\n",
       "14509  2015        63.554024\n",
       "\n",
       "[140 rows x 2 columns]"
      ]
     },
     "execution_count": 52,
     "metadata": {},
     "output_type": "execute_result"
    }
   ],
   "source": [
    "numeric_cols = [\"year\", \"life_expectancy\"]\n",
    "df_num = sample[numeric_cols]\n",
    "df_num"
   ]
  },
  {
   "cell_type": "markdown",
   "id": "02b11be0",
   "metadata": {},
   "source": [
    "Turn a DataFrame into a NumPy array, use the `to_numpy` method:"
   ]
  },
  {
   "cell_type": "code",
   "execution_count": 53,
   "id": "7e9e3e33",
   "metadata": {},
   "outputs": [],
   "source": [
    "df_num = df_num.to_numpy()"
   ]
  },
  {
   "cell_type": "code",
   "execution_count": 54,
   "id": "383f6262",
   "metadata": {
    "scrolled": true
   },
   "outputs": [
    {
     "data": {
      "text/plain": [
       "True"
      ]
     },
     "execution_count": 54,
     "metadata": {},
     "output_type": "execute_result"
    }
   ],
   "source": [
    "isinstance(df_num, np.ndarray) # an ndarray of Python objects"
   ]
  },
  {
   "cell_type": "markdown",
   "id": "9778cabe",
   "metadata": {},
   "source": [
    "To convert back to a DataFrame, as you may recall from earlier chapters, you can pass a two-dimensional ndarray with optional column names:"
   ]
  },
  {
   "cell_type": "code",
   "execution_count": 57,
   "id": "2a495ab9",
   "metadata": {
    "scrolled": true
   },
   "outputs": [
    {
     "data": {
      "text/html": [
       "<div>\n",
       "<style scoped>\n",
       "    .dataframe tbody tr th:only-of-type {\n",
       "        vertical-align: middle;\n",
       "    }\n",
       "\n",
       "    .dataframe tbody tr th {\n",
       "        vertical-align: top;\n",
       "    }\n",
       "\n",
       "    .dataframe thead th {\n",
       "        text-align: right;\n",
       "    }\n",
       "</style>\n",
       "<table border=\"1\" class=\"dataframe\">\n",
       "  <thead>\n",
       "    <tr style=\"text-align: right;\">\n",
       "      <th></th>\n",
       "      <th>country</th>\n",
       "      <th>country_code</th>\n",
       "      <th>region</th>\n",
       "      <th>income_group</th>\n",
       "      <th>year</th>\n",
       "      <th>life_expectancy</th>\n",
       "    </tr>\n",
       "  </thead>\n",
       "  <tbody>\n",
       "    <tr>\n",
       "      <th>0</th>\n",
       "      <td>Poland</td>\n",
       "      <td>POL</td>\n",
       "      <td>Europe &amp; Central Asia</td>\n",
       "      <td>High income</td>\n",
       "      <td>1960</td>\n",
       "      <td>67.680488</td>\n",
       "    </tr>\n",
       "    <tr>\n",
       "      <th>1</th>\n",
       "      <td>United States</td>\n",
       "      <td>USA</td>\n",
       "      <td>North America</td>\n",
       "      <td>High income</td>\n",
       "      <td>1960</td>\n",
       "      <td>69.770732</td>\n",
       "    </tr>\n",
       "    <tr>\n",
       "      <th>2</th>\n",
       "      <td>Pakistan</td>\n",
       "      <td>PAK</td>\n",
       "      <td>South Asia</td>\n",
       "      <td>Lower middle income</td>\n",
       "      <td>1961</td>\n",
       "      <td>46.22322</td>\n",
       "    </tr>\n",
       "    <tr>\n",
       "      <th>3</th>\n",
       "      <td>Australia</td>\n",
       "      <td>AUS</td>\n",
       "      <td>East Asia &amp; Pacific</td>\n",
       "      <td>High income</td>\n",
       "      <td>1961</td>\n",
       "      <td>70.973171</td>\n",
       "    </tr>\n",
       "    <tr>\n",
       "      <th>4</th>\n",
       "      <td>Indonesia</td>\n",
       "      <td>IDN</td>\n",
       "      <td>East Asia &amp; Pacific</td>\n",
       "      <td>Lower middle income</td>\n",
       "      <td>1961</td>\n",
       "      <td>49.269805</td>\n",
       "    </tr>\n",
       "    <tr>\n",
       "      <th>...</th>\n",
       "      <td>...</td>\n",
       "      <td>...</td>\n",
       "      <td>...</td>\n",
       "      <td>...</td>\n",
       "      <td>...</td>\n",
       "      <td>...</td>\n",
       "    </tr>\n",
       "    <tr>\n",
       "      <th>135</th>\n",
       "      <td>Czech Republic</td>\n",
       "      <td>CZE</td>\n",
       "      <td>Europe &amp; Central Asia</td>\n",
       "      <td>High income</td>\n",
       "      <td>2014</td>\n",
       "      <td>78.82439</td>\n",
       "    </tr>\n",
       "    <tr>\n",
       "      <th>136</th>\n",
       "      <td>Malaysia</td>\n",
       "      <td>MYS</td>\n",
       "      <td>East Asia &amp; Pacific</td>\n",
       "      <td>Upper middle income</td>\n",
       "      <td>2014</td>\n",
       "      <td>74.718293</td>\n",
       "    </tr>\n",
       "    <tr>\n",
       "      <th>137</th>\n",
       "      <td>Canada</td>\n",
       "      <td>CAN</td>\n",
       "      <td>North America</td>\n",
       "      <td>High income</td>\n",
       "      <td>2014</td>\n",
       "      <td>81.95661</td>\n",
       "    </tr>\n",
       "    <tr>\n",
       "      <th>138</th>\n",
       "      <td>Oman</td>\n",
       "      <td>OMN</td>\n",
       "      <td>Middle East &amp; North Africa</td>\n",
       "      <td>High income</td>\n",
       "      <td>2014</td>\n",
       "      <td>77.085098</td>\n",
       "    </tr>\n",
       "    <tr>\n",
       "      <th>139</th>\n",
       "      <td>Comoros</td>\n",
       "      <td>COM</td>\n",
       "      <td>Sub-Saharan Africa</td>\n",
       "      <td>Low income</td>\n",
       "      <td>2015</td>\n",
       "      <td>63.554024</td>\n",
       "    </tr>\n",
       "  </tbody>\n",
       "</table>\n",
       "<p>140 rows × 6 columns</p>\n",
       "</div>"
      ],
      "text/plain": [
       "            country country_code                      region  \\\n",
       "0            Poland          POL       Europe & Central Asia   \n",
       "1     United States          USA               North America   \n",
       "2          Pakistan          PAK                  South Asia   \n",
       "3         Australia          AUS         East Asia & Pacific   \n",
       "4         Indonesia          IDN         East Asia & Pacific   \n",
       "..              ...          ...                         ...   \n",
       "135  Czech Republic          CZE       Europe & Central Asia   \n",
       "136        Malaysia          MYS         East Asia & Pacific   \n",
       "137          Canada          CAN               North America   \n",
       "138            Oman          OMN  Middle East & North Africa   \n",
       "139         Comoros          COM          Sub-Saharan Africa   \n",
       "\n",
       "            income_group  year life_expectancy  \n",
       "0            High income  1960       67.680488  \n",
       "1            High income  1960       69.770732  \n",
       "2    Lower middle income  1961        46.22322  \n",
       "3            High income  1961       70.973171  \n",
       "4    Lower middle income  1961       49.269805  \n",
       "..                   ...   ...             ...  \n",
       "135          High income  2014        78.82439  \n",
       "136  Upper middle income  2014       74.718293  \n",
       "137          High income  2014        81.95661  \n",
       "138          High income  2014       77.085098  \n",
       "139           Low income  2015       63.554024  \n",
       "\n",
       "[140 rows x 6 columns]"
      ]
     },
     "execution_count": 57,
     "metadata": {},
     "output_type": "execute_result"
    }
   ],
   "source": [
    "df2 = pd.DataFrame(sample.to_numpy(), columns=['country', 'country_code', 'region', 'income_group', 'year', 'life_expectancy'])\n",
    "df2"
   ]
  },
  {
   "cell_type": "code",
   "execution_count": 9,
   "id": "5fa581cc",
   "metadata": {},
   "outputs": [
    {
     "data": {
      "text/plain": [
       "array([['Poland', 'POL', 'Europe & Central Asia', 'High income', 1960,\n",
       "        67.680487805],\n",
       "       ['United States', 'USA', 'North America', 'High income', 1960,\n",
       "        69.770731707],\n",
       "       ['Pakistan', 'PAK', 'South Asia', 'Lower middle income', 1961,\n",
       "        46.223219512],\n",
       "       ['Australia', 'AUS', 'East Asia & Pacific', 'High income', 1961,\n",
       "        70.973170732],\n",
       "       ['Indonesia', 'IDN', 'East Asia & Pacific', 'Lower middle income',\n",
       "        1961, 49.269804878],\n",
       "       ['Kazakhstan', 'KAZ', 'Europe & Central Asia',\n",
       "        'Upper middle income', 1962, 59.199073171],\n",
       "       ['Bangladesh', 'BGD', 'South Asia', 'Lower middle income', 1962,\n",
       "        47.08397561],\n",
       "       ['Cuba', 'CUB', 'Latin America & Caribbean',\n",
       "        'Upper middle income', 1962, 65.138219512],\n",
       "       ['Finland', 'FIN', 'Europe & Central Asia', 'High income', 1962,\n",
       "        68.577804878],\n",
       "       ['Hungary', 'HUN', 'Europe & Central Asia', 'High income', 1962,\n",
       "        67.865853659],\n",
       "       ['Azerbaijan', 'AZE', 'Europe & Central Asia',\n",
       "        'Upper middle income', 1963, 62.052],\n",
       "       ['Nepal', 'NPL', 'South Asia', 'Low income', 1963, 36.425170732],\n",
       "       ['Macedonia, FYR', 'MKD', 'Europe & Central Asia',\n",
       "        'Upper middle income', 1963, 62.459512195],\n",
       "       ['Micronesia, Fed. Sts.', 'FSM', 'East Asia & Pacific',\n",
       "        'Lower middle income', 1963, 58.781585366],\n",
       "       ['Tunisia', 'TUN', 'Middle East & North Africa',\n",
       "        'Lower middle income', 1963, 44.100780488],\n",
       "       ['Antigua and Barbuda', 'ATG', 'Latin America & Caribbean',\n",
       "        'High income', 1963, 62.992585366],\n",
       "       ['Maldives', 'MDV', 'South Asia', 'Upper middle income', 1964,\n",
       "        39.806902439],\n",
       "       ['Saudi Arabia', 'SAU', 'Middle East & North Africa',\n",
       "        'High income', 1964, 47.811268293],\n",
       "       ['Sao Tome and Principe', 'STP', 'Sub-Saharan Africa',\n",
       "        'Lower middle income', 1964, 52.674756098],\n",
       "       ['Maldives', 'MDV', 'South Asia', 'Upper middle income', 1965,\n",
       "        40.49602439],\n",
       "       ['Lebanon', 'LBN', 'Middle East & North Africa',\n",
       "        'Upper middle income', 1965, 64.715],\n",
       "       ['Canada', 'CAN', 'North America', 'High income', 1967,\n",
       "        72.207804878],\n",
       "       ['Lao PDR', 'LAO', 'East Asia & Pacific', 'Lower middle income',\n",
       "        1967, 45.316878049],\n",
       "       ['Egypt, Arab Rep.', 'EGY', 'Middle East & North Africa',\n",
       "        'Lower middle income', 1968, 51.568682927],\n",
       "       ['Iran, Islamic Rep.', 'IRN', 'Middle East & North Africa',\n",
       "        'Upper middle income', 1969, 50.158341463],\n",
       "       ['Samoa', 'WSM', 'East Asia & Pacific', 'Upper middle income',\n",
       "        1970, 54.969512195],\n",
       "       ['Botswana', 'BWA', 'Sub-Saharan Africa', 'Upper middle income',\n",
       "        1970, 54.443463415],\n",
       "       ['Nepal', 'NPL', 'South Asia', 'Low income', 1970, 40.504439024],\n",
       "       ['Bermuda', 'BMU', 'North America', 'High income', 1970, 70.29],\n",
       "       ['Mexico', 'MEX', 'Latin America & Caribbean',\n",
       "        'Upper middle income', 1971, 61.819170732],\n",
       "       ['Trinidad and Tobago', 'TTO', 'Latin America & Caribbean',\n",
       "        'High income', 1971, 65.260390244],\n",
       "       ['St. Lucia', 'LCA', 'Latin America & Caribbean',\n",
       "        'Upper middle income', 1971, 63.443170732],\n",
       "       ['Sudan', 'SDN', 'Sub-Saharan Africa', 'Lower middle income',\n",
       "        1971, 52.570146341],\n",
       "       ['Nepal', 'NPL', 'South Asia', 'Low income', 1971, 41.088146341],\n",
       "       ['Canada', 'CAN', 'North America', 'High income', 1972,\n",
       "        72.933902439],\n",
       "       ['Swaziland', 'SWZ', 'Sub-Saharan Africa', 'Lower middle income',\n",
       "        1972, 49.151121951],\n",
       "       ['Bhutan', 'BTN', 'South Asia', 'Lower middle income', 1973,\n",
       "        39.287487805],\n",
       "       ['Peru', 'PER', 'Latin America & Caribbean',\n",
       "        'Upper middle income', 1973, 55.758],\n",
       "       ['United States', 'USA', 'North America', 'High income', 1974,\n",
       "        71.956097561],\n",
       "       ['Romania', 'ROU', 'Europe & Central Asia', 'Upper middle income',\n",
       "        1974, 69.499756098],\n",
       "       ['New Caledonia', 'NCL', 'East Asia & Pacific', 'High income',\n",
       "        1975, 65.273170732],\n",
       "       ['Uruguay', 'URY', 'Latin America & Caribbean', 'High income',\n",
       "        1975, 69.142829268],\n",
       "       ['Papua New Guinea', 'PNG', 'East Asia & Pacific',\n",
       "        'Lower middle income', 1975, 49.270512195],\n",
       "       ['United States', 'USA', 'North America', 'High income', 1976,\n",
       "        72.856097561],\n",
       "       ['Afghanistan', 'AFG', 'South Asia', 'Low income', 1976,\n",
       "        39.575707317],\n",
       "       ['Bhutan', 'BTN', 'South Asia', 'Lower middle income', 1977,\n",
       "        42.600829268],\n",
       "       ['Lao PDR', 'LAO', 'East Asia & Pacific', 'Lower middle income',\n",
       "        1977, 48.208390244],\n",
       "       ['Dominican Republic', 'DOM', 'Latin America & Caribbean',\n",
       "        'Upper middle income', 1977, 61.878902439],\n",
       "       ['Guatemala', 'GTM', 'Latin America & Caribbean',\n",
       "        'Lower middle income', 1978, 56.391512195],\n",
       "       ['Ireland', 'IRL', 'Europe & Central Asia', 'High income', 1978,\n",
       "        72.104756098],\n",
       "       ['Ecuador', 'ECU', 'Latin America & Caribbean',\n",
       "        'Upper middle income', 1978, 61.925195122],\n",
       "       ['Ecuador', 'ECU', 'Latin America & Caribbean',\n",
       "        'Upper middle income', 1979, 62.506902439],\n",
       "       ['United States', 'USA', 'North America', 'High income', 1979,\n",
       "        73.804878049],\n",
       "       ['Sudan', 'SDN', 'Sub-Saharan Africa', 'Lower middle income',\n",
       "        1979, 54.149073171],\n",
       "       ['Bangladesh', 'BGD', 'South Asia', 'Lower middle income', 1979,\n",
       "        52.887292683],\n",
       "       ['Egypt, Arab Rep.', 'EGY', 'Middle East & North Africa',\n",
       "        'Lower middle income', 1979, 57.641365854],\n",
       "       ['Cyprus', 'CYP', 'Europe & Central Asia', 'High income', 1980,\n",
       "        74.756804878],\n",
       "       ['Qatar', 'QAT', 'Middle East & North Africa', 'High income',\n",
       "        1980, 72.791658537],\n",
       "       ['Bermuda', 'BMU', 'North America', 'High income', 1980,\n",
       "        72.304634146],\n",
       "       ['Puerto Rico', 'PRI', 'Latin America & Caribbean', 'High income',\n",
       "        1980, 73.702292683],\n",
       "       ['Myanmar', 'MMR', 'East Asia & Pacific', 'Lower middle income',\n",
       "        1981, 55.334390244],\n",
       "       ['Qatar', 'QAT', 'Middle East & North Africa', 'High income',\n",
       "        1981, 73.087365854],\n",
       "       ['St. Martin (French part)', 'MAF', 'Latin America & Caribbean',\n",
       "        'High income', 1982, 73.219512195],\n",
       "       ['Kenya', 'KEN', 'Sub-Saharan Africa', 'Lower middle income',\n",
       "        1982, 58.799756098],\n",
       "       ['Greenland', 'GRL', 'Europe & Central Asia', 'High income', 1982,\n",
       "        63.192682927],\n",
       "       ['Indonesia', 'IDN', 'East Asia & Pacific', 'Lower middle income',\n",
       "        1983, 60.82295122],\n",
       "       ['Algeria', 'DZA', 'Middle East & North Africa',\n",
       "        'Upper middle income', 1984, 63.117121951],\n",
       "       ['Central African Republic', 'CAF', 'Sub-Saharan Africa',\n",
       "        'Low income', 1984, 49.825634146],\n",
       "       ['New Caledonia', 'NCL', 'East Asia & Pacific', 'High income',\n",
       "        1984, 68.063414634],\n",
       "       ['Somalia', 'SOM', 'Sub-Saharan Africa', 'Low income', 1984,\n",
       "        45.984365854],\n",
       "       ['France', 'FRA', 'Europe & Central Asia', 'High income', 1984,\n",
       "        75.0],\n",
       "       ['Lao PDR', 'LAO', 'East Asia & Pacific', 'Lower middle income',\n",
       "        1984, 50.544243902],\n",
       "       ['India', 'IND', 'South Asia', 'Lower middle income', 1985,\n",
       "        55.860902439],\n",
       "       ['Philippines', 'PHL', 'East Asia & Pacific',\n",
       "        'Lower middle income', 1985, 63.798560976],\n",
       "       ['Kosovo', 'XKX', 'Europe & Central Asia', 'Lower middle income',\n",
       "        1985, 66.797560976],\n",
       "       ['United Arab Emirates', 'ARE', 'Middle East & North Africa',\n",
       "        'High income', 1985, 70.076634146],\n",
       "       ['Uzbekistan', 'UZB', 'Europe & Central Asia',\n",
       "        'Lower middle income', 1986, 66.942439024],\n",
       "       ['United States', 'USA', 'North America', 'High income', 1987,\n",
       "        74.765853659],\n",
       "       ['South Sudan', 'SSD', 'Sub-Saharan Africa', 'Low income', 1987,\n",
       "        41.50802439],\n",
       "       ['Bhutan', 'BTN', 'South Asia', 'Lower middle income', 1988,\n",
       "        50.898487805],\n",
       "       ['Canada', 'CAN', 'North America', 'High income', 1988,\n",
       "        76.809268293],\n",
       "       ['Niger', 'NER', 'Sub-Saharan Africa', 'Low income', 1988,\n",
       "        42.962073171],\n",
       "       ['Tunisia', 'TUN', 'Middle East & North Africa',\n",
       "        'Lower middle income', 1988, 67.607902439],\n",
       "       ['Guatemala', 'GTM', 'Latin America & Caribbean',\n",
       "        'Lower middle income', 1989, 61.704658537],\n",
       "       ['Sri Lanka', 'LKA', 'South Asia', 'Lower middle income', 1989,\n",
       "        69.534341463],\n",
       "       ['Uruguay', 'URY', 'Latin America & Caribbean', 'High income',\n",
       "        1990, 72.539536585],\n",
       "       ['United States', 'USA', 'North America', 'High income', 1990,\n",
       "        75.214634146],\n",
       "       ['United States', 'USA', 'North America', 'High income', 1991,\n",
       "        75.365853659],\n",
       "       ['Saudi Arabia', 'SAU', 'Middle East & North Africa',\n",
       "        'High income', 1991, 69.592195122],\n",
       "       ['Philippines', 'PHL', 'East Asia & Pacific',\n",
       "        'Lower middle income', 1991, 65.481268293],\n",
       "       ['Syrian Arab Republic', 'SYR', 'Middle East & North Africa',\n",
       "        'Lower middle income', 1991, 70.396],\n",
       "       ['Libya', 'LBY', 'Middle East & North Africa',\n",
       "        'Upper middle income', 1992, 69.275073171],\n",
       "       ['Albania', 'ALB', 'Europe & Central Asia', 'Upper middle income',\n",
       "        1992, 71.900804878],\n",
       "       ['Bangladesh', 'BGD', 'South Asia', 'Lower middle income', 1993,\n",
       "        60.418804878],\n",
       "       ['United States', 'USA', 'North America', 'High income', 1993,\n",
       "        75.419512195],\n",
       "       ['Cameroon', 'CMR', 'Sub-Saharan Africa', 'Lower middle income',\n",
       "        1993, 53.524829268],\n",
       "       ['Aruba', 'ABW', 'Latin America & Caribbean', 'High income', 1994,\n",
       "        73.535756098],\n",
       "       ['Ghana', 'GHA', 'Sub-Saharan Africa', 'Lower middle income',\n",
       "        1994, 57.594829268],\n",
       "       ['Canada', 'CAN', 'North America', 'High income', 1994,\n",
       "        77.86195122],\n",
       "       ['Pakistan', 'PAK', 'South Asia', 'Lower middle income', 1995,\n",
       "        61.485292683],\n",
       "       ['Rwanda', 'RWA', 'Sub-Saharan Africa', 'Low income', 1995,\n",
       "        31.634512195],\n",
       "       ['Somalia', 'SOM', 'Sub-Saharan Africa', 'Low income', 1996,\n",
       "        48.077609756],\n",
       "       ['Sierra Leone', 'SLE', 'Sub-Saharan Africa', 'Low income', 1998,\n",
       "        37.046804878],\n",
       "       ['United Arab Emirates', 'ARE', 'Middle East & North Africa',\n",
       "        'High income', 1998, 73.920219512],\n",
       "       ['Oman', 'OMN', 'Middle East & North Africa', 'High income', 1999,\n",
       "        71.910390244],\n",
       "       ['Virgin Islands (U.S.)', 'VIR', 'Latin America & Caribbean',\n",
       "        'High income', 1999, 77.306170732],\n",
       "       ['Spain', 'ESP', 'Europe & Central Asia', 'High income', 1999,\n",
       "        78.717073171],\n",
       "       ['Swaziland', 'SWZ', 'Sub-Saharan Africa', 'Lower middle income',\n",
       "        2001, 47.434097561],\n",
       "       ['Spain', 'ESP', 'Europe & Central Asia', 'High income', 2001,\n",
       "        79.368292683],\n",
       "       ['United Arab Emirates', 'ARE', 'Middle East & North Africa',\n",
       "        'High income', 2003, 75.217219512],\n",
       "       ['United States', 'USA', 'North America', 'High income', 2004,\n",
       "        77.487804878],\n",
       "       ['Lebanon', 'LBN', 'Middle East & North Africa',\n",
       "        'Upper middle income', 2006, 77.246707317],\n",
       "       ['Indonesia', 'IDN', 'East Asia & Pacific', 'Lower middle income',\n",
       "        2006, 67.367487805],\n",
       "       ['Kazakhstan', 'KAZ', 'Europe & Central Asia',\n",
       "        'Upper middle income', 2006, 66.16097561],\n",
       "       ['Canada', 'CAN', 'North America', 'High income', 2006,\n",
       "        80.292682927],\n",
       "       ['Mauritania', 'MRT', 'Sub-Saharan Africa', 'Lower middle income',\n",
       "        2007, 61.139731707],\n",
       "       ['Puerto Rico', 'PRI', 'Latin America & Caribbean', 'High income',\n",
       "        2008, 77.906463415],\n",
       "       ['Togo', 'TGO', 'Sub-Saharan Africa', 'Low income', 2008,\n",
       "        56.005902439],\n",
       "       ['Bangladesh', 'BGD', 'South Asia', 'Lower middle income', 2008,\n",
       "        69.277853659],\n",
       "       ['Qatar', 'QAT', 'Middle East & North Africa', 'High income',\n",
       "        2008, 77.448756098],\n",
       "       ['Hungary', 'HUN', 'Europe & Central Asia', 'High income', 2008,\n",
       "        73.702439024],\n",
       "       ['Fiji', 'FJI', 'East Asia & Pacific', 'Upper middle income',\n",
       "        2009, 69.202853659],\n",
       "       ['Aruba', 'ABW', 'Latin America & Caribbean', 'High income', 2009,\n",
       "        74.818146341],\n",
       "       ['Malaysia', 'MYS', 'East Asia & Pacific', 'Upper middle income',\n",
       "        2009, 74.038414634],\n",
       "       ['Canada', 'CAN', 'North America', 'High income', 2010,\n",
       "        81.197560976],\n",
       "       ['Nicaragua', 'NIC', 'Latin America & Caribbean',\n",
       "        'Lower middle income', 2010, 73.581731707],\n",
       "       ['United States', 'USA', 'North America', 'High income', 2011,\n",
       "        78.641463415],\n",
       "       ['Bangladesh', 'BGD', 'South Asia', 'Lower middle income', 2011,\n",
       "        70.47195122],\n",
       "       ['Seychelles', 'SYC', 'Sub-Saharan Africa', 'High income', 2011,\n",
       "        72.724390244],\n",
       "       ['Ireland', 'IRL', 'Europe & Central Asia', 'High income', 2012,\n",
       "        80.846341463],\n",
       "       ['India', 'IND', 'South Asia', 'Lower middle income', 2012,\n",
       "        67.289878049],\n",
       "       ['New Zealand', 'NZL', 'East Asia & Pacific', 'High income', 2013,\n",
       "        81.407317073],\n",
       "       ['Bermuda', 'BMU', 'North America', 'High income', 2013,\n",
       "        80.572439024],\n",
       "       ['Myanmar', 'MMR', 'East Asia & Pacific', 'Lower middle income',\n",
       "        2014, 65.857853659],\n",
       "       ['Pakistan', 'PAK', 'South Asia', 'Lower middle income', 2014,\n",
       "        66.183365854],\n",
       "       ['Czech Republic', 'CZE', 'Europe & Central Asia', 'High income',\n",
       "        2014, 78.824390244],\n",
       "       ['Malaysia', 'MYS', 'East Asia & Pacific', 'Upper middle income',\n",
       "        2014, 74.718292683],\n",
       "       ['Canada', 'CAN', 'North America', 'High income', 2014,\n",
       "        81.956609756],\n",
       "       ['Oman', 'OMN', 'Middle East & North Africa', 'High income', 2014,\n",
       "        77.085097561],\n",
       "       ['Comoros', 'COM', 'Sub-Saharan Africa', 'Low income', 2015,\n",
       "        63.55402439]], dtype=object)"
      ]
     },
     "execution_count": 9,
     "metadata": {},
     "output_type": "execute_result"
    }
   ],
   "source": [
    "df_mix = sample.to_numpy()\n",
    "df_mix"
   ]
  },
  {
   "cell_type": "code",
   "execution_count": 10,
   "id": "fbcca069",
   "metadata": {},
   "outputs": [
    {
     "data": {
      "text/plain": [
       "True"
      ]
     },
     "execution_count": 10,
     "metadata": {},
     "output_type": "execute_result"
    }
   ],
   "source": [
    "isinstance(df_mix, np.ndarray) # an ndarray of Python objects"
   ]
  },
  {
   "cell_type": "markdown",
   "id": "875c6f87",
   "metadata": {},
   "source": [
    "Use a subset by using `loc` indexing with `to_numpy`:"
   ]
  },
  {
   "cell_type": "code",
   "execution_count": 13,
   "id": "fc275ddd",
   "metadata": {},
   "outputs": [
    {
     "data": {
      "text/plain": [
       "array([[1960.        ,   67.6804878 ],\n",
       "       [1960.        ,   69.77073171],\n",
       "       [1961.        ,   46.22321951],\n",
       "       [1961.        ,   70.97317073],\n",
       "       [1961.        ,   49.26980488],\n",
       "       [1962.        ,   59.19907317],\n",
       "       [1962.        ,   47.08397561],\n",
       "       [1962.        ,   65.13821951],\n",
       "       [1962.        ,   68.57780488],\n",
       "       [1962.        ,   67.86585366],\n",
       "       [1963.        ,   62.052     ],\n",
       "       [1963.        ,   36.42517073],\n",
       "       [1963.        ,   62.4595122 ],\n",
       "       [1963.        ,   58.78158537],\n",
       "       [1963.        ,   44.10078049],\n",
       "       [1963.        ,   62.99258537],\n",
       "       [1964.        ,   39.80690244],\n",
       "       [1964.        ,   47.81126829],\n",
       "       [1964.        ,   52.6747561 ],\n",
       "       [1965.        ,   40.49602439],\n",
       "       [1965.        ,   64.715     ],\n",
       "       [1967.        ,   72.20780488],\n",
       "       [1967.        ,   45.31687805],\n",
       "       [1968.        ,   51.56868293],\n",
       "       [1969.        ,   50.15834146],\n",
       "       [1970.        ,   54.9695122 ],\n",
       "       [1970.        ,   54.44346341],\n",
       "       [1970.        ,   40.50443902],\n",
       "       [1970.        ,   70.29      ],\n",
       "       [1971.        ,   61.81917073],\n",
       "       [1971.        ,   65.26039024],\n",
       "       [1971.        ,   63.44317073],\n",
       "       [1971.        ,   52.57014634],\n",
       "       [1971.        ,   41.08814634],\n",
       "       [1972.        ,   72.93390244],\n",
       "       [1972.        ,   49.15112195],\n",
       "       [1973.        ,   39.2874878 ],\n",
       "       [1973.        ,   55.758     ],\n",
       "       [1974.        ,   71.95609756],\n",
       "       [1974.        ,   69.4997561 ],\n",
       "       [1975.        ,   65.27317073],\n",
       "       [1975.        ,   69.14282927],\n",
       "       [1975.        ,   49.2705122 ],\n",
       "       [1976.        ,   72.85609756],\n",
       "       [1976.        ,   39.57570732],\n",
       "       [1977.        ,   42.60082927],\n",
       "       [1977.        ,   48.20839024],\n",
       "       [1977.        ,   61.87890244],\n",
       "       [1978.        ,   56.39151219],\n",
       "       [1978.        ,   72.1047561 ],\n",
       "       [1978.        ,   61.92519512],\n",
       "       [1979.        ,   62.50690244],\n",
       "       [1979.        ,   73.80487805],\n",
       "       [1979.        ,   54.14907317],\n",
       "       [1979.        ,   52.88729268],\n",
       "       [1979.        ,   57.64136585],\n",
       "       [1980.        ,   74.75680488],\n",
       "       [1980.        ,   72.79165854],\n",
       "       [1980.        ,   72.30463415],\n",
       "       [1980.        ,   73.70229268],\n",
       "       [1981.        ,   55.33439024],\n",
       "       [1981.        ,   73.08736585],\n",
       "       [1982.        ,   73.21951219],\n",
       "       [1982.        ,   58.7997561 ],\n",
       "       [1982.        ,   63.19268293],\n",
       "       [1983.        ,   60.82295122],\n",
       "       [1984.        ,   63.11712195],\n",
       "       [1984.        ,   49.82563415],\n",
       "       [1984.        ,   68.06341463],\n",
       "       [1984.        ,   45.98436585],\n",
       "       [1984.        ,   75.        ],\n",
       "       [1984.        ,   50.5442439 ],\n",
       "       [1985.        ,   55.86090244],\n",
       "       [1985.        ,   63.79856098],\n",
       "       [1985.        ,   66.79756098],\n",
       "       [1985.        ,   70.07663415],\n",
       "       [1986.        ,   66.94243902],\n",
       "       [1987.        ,   74.76585366],\n",
       "       [1987.        ,   41.50802439],\n",
       "       [1988.        ,   50.89848781],\n",
       "       [1988.        ,   76.80926829],\n",
       "       [1988.        ,   42.96207317],\n",
       "       [1988.        ,   67.60790244],\n",
       "       [1989.        ,   61.70465854],\n",
       "       [1989.        ,   69.53434146],\n",
       "       [1990.        ,   72.53953658],\n",
       "       [1990.        ,   75.21463415],\n",
       "       [1991.        ,   75.36585366],\n",
       "       [1991.        ,   69.59219512],\n",
       "       [1991.        ,   65.48126829],\n",
       "       [1991.        ,   70.396     ],\n",
       "       [1992.        ,   69.27507317],\n",
       "       [1992.        ,   71.90080488],\n",
       "       [1993.        ,   60.41880488],\n",
       "       [1993.        ,   75.41951219],\n",
       "       [1993.        ,   53.52482927],\n",
       "       [1994.        ,   73.5357561 ],\n",
       "       [1994.        ,   57.59482927],\n",
       "       [1994.        ,   77.86195122],\n",
       "       [1995.        ,   61.48529268],\n",
       "       [1995.        ,   31.63451219],\n",
       "       [1996.        ,   48.07760976],\n",
       "       [1998.        ,   37.04680488],\n",
       "       [1998.        ,   73.92021951],\n",
       "       [1999.        ,   71.91039024],\n",
       "       [1999.        ,   77.30617073],\n",
       "       [1999.        ,   78.71707317],\n",
       "       [2001.        ,   47.43409756],\n",
       "       [2001.        ,   79.36829268],\n",
       "       [2003.        ,   75.21721951],\n",
       "       [2004.        ,   77.48780488],\n",
       "       [2006.        ,   77.24670732],\n",
       "       [2006.        ,   67.3674878 ],\n",
       "       [2006.        ,   66.16097561],\n",
       "       [2006.        ,   80.29268293],\n",
       "       [2007.        ,   61.13973171],\n",
       "       [2008.        ,   77.90646342],\n",
       "       [2008.        ,   56.00590244],\n",
       "       [2008.        ,   69.27785366],\n",
       "       [2008.        ,   77.4487561 ],\n",
       "       [2008.        ,   73.70243902],\n",
       "       [2009.        ,   69.20285366],\n",
       "       [2009.        ,   74.81814634],\n",
       "       [2009.        ,   74.03841463],\n",
       "       [2010.        ,   81.19756098],\n",
       "       [2010.        ,   73.58173171],\n",
       "       [2011.        ,   78.64146342],\n",
       "       [2011.        ,   70.47195122],\n",
       "       [2011.        ,   72.72439024],\n",
       "       [2012.        ,   80.84634146],\n",
       "       [2012.        ,   67.28987805],\n",
       "       [2013.        ,   81.40731707],\n",
       "       [2013.        ,   80.57243902],\n",
       "       [2014.        ,   65.85785366],\n",
       "       [2014.        ,   66.18336585],\n",
       "       [2014.        ,   78.82439024],\n",
       "       [2014.        ,   74.71829268],\n",
       "       [2014.        ,   81.95660976],\n",
       "       [2014.        ,   77.08509756],\n",
       "       [2015.        ,   63.55402439]])"
      ]
     },
     "execution_count": 13,
     "metadata": {},
     "output_type": "execute_result"
    }
   ],
   "source": [
    "sample.loc[:, numeric_cols].to_numpy()"
   ]
  },
  {
   "cell_type": "markdown",
   "id": "cdc1c5a3",
   "metadata": {},
   "source": [
    "There is a nonnumeric column in our example dataset. Let's convert `income_group` to dummy variables. But this can be error prone."
   ]
  },
  {
   "cell_type": "code",
   "execution_count": 14,
   "id": "5482debd",
   "metadata": {
    "scrolled": true
   },
   "outputs": [
    {
     "data": {
      "text/html": [
       "<div>\n",
       "<style scoped>\n",
       "    .dataframe tbody tr th:only-of-type {\n",
       "        vertical-align: middle;\n",
       "    }\n",
       "\n",
       "    .dataframe tbody tr th {\n",
       "        vertical-align: top;\n",
       "    }\n",
       "\n",
       "    .dataframe thead th {\n",
       "        text-align: right;\n",
       "    }\n",
       "</style>\n",
       "<table border=\"1\" class=\"dataframe\">\n",
       "  <thead>\n",
       "    <tr style=\"text-align: right;\">\n",
       "      <th></th>\n",
       "      <th>country</th>\n",
       "      <th>country_code</th>\n",
       "      <th>region</th>\n",
       "      <th>year</th>\n",
       "      <th>life_expectancy</th>\n",
       "      <th>income_group_High income</th>\n",
       "      <th>income_group_Low income</th>\n",
       "      <th>income_group_Lower middle income</th>\n",
       "      <th>income_group_Upper middle income</th>\n",
       "    </tr>\n",
       "  </thead>\n",
       "  <tbody>\n",
       "    <tr>\n",
       "      <th>187</th>\n",
       "      <td>Poland</td>\n",
       "      <td>POL</td>\n",
       "      <td>Europe &amp; Central Asia</td>\n",
       "      <td>1960</td>\n",
       "      <td>67.680488</td>\n",
       "      <td>1</td>\n",
       "      <td>0</td>\n",
       "      <td>0</td>\n",
       "      <td>0</td>\n",
       "    </tr>\n",
       "    <tr>\n",
       "      <th>248</th>\n",
       "      <td>United States</td>\n",
       "      <td>USA</td>\n",
       "      <td>North America</td>\n",
       "      <td>1960</td>\n",
       "      <td>69.770732</td>\n",
       "      <td>1</td>\n",
       "      <td>0</td>\n",
       "      <td>0</td>\n",
       "      <td>0</td>\n",
       "    </tr>\n",
       "    <tr>\n",
       "      <th>444</th>\n",
       "      <td>Pakistan</td>\n",
       "      <td>PAK</td>\n",
       "      <td>South Asia</td>\n",
       "      <td>1961</td>\n",
       "      <td>46.223220</td>\n",
       "      <td>0</td>\n",
       "      <td>0</td>\n",
       "      <td>1</td>\n",
       "      <td>0</td>\n",
       "    </tr>\n",
       "    <tr>\n",
       "      <th>274</th>\n",
       "      <td>Australia</td>\n",
       "      <td>AUS</td>\n",
       "      <td>East Asia &amp; Pacific</td>\n",
       "      <td>1961</td>\n",
       "      <td>70.973171</td>\n",
       "      <td>1</td>\n",
       "      <td>0</td>\n",
       "      <td>0</td>\n",
       "      <td>0</td>\n",
       "    </tr>\n",
       "    <tr>\n",
       "      <th>367</th>\n",
       "      <td>Indonesia</td>\n",
       "      <td>IDN</td>\n",
       "      <td>East Asia &amp; Pacific</td>\n",
       "      <td>1961</td>\n",
       "      <td>49.269805</td>\n",
       "      <td>0</td>\n",
       "      <td>0</td>\n",
       "      <td>1</td>\n",
       "      <td>0</td>\n",
       "    </tr>\n",
       "    <tr>\n",
       "      <th>...</th>\n",
       "      <td>...</td>\n",
       "      <td>...</td>\n",
       "      <td>...</td>\n",
       "      <td>...</td>\n",
       "      <td>...</td>\n",
       "      <td>...</td>\n",
       "      <td>...</td>\n",
       "      <td>...</td>\n",
       "      <td>...</td>\n",
       "    </tr>\n",
       "    <tr>\n",
       "      <th>14254</th>\n",
       "      <td>Czech Republic</td>\n",
       "      <td>CZE</td>\n",
       "      <td>Europe &amp; Central Asia</td>\n",
       "      <td>2014</td>\n",
       "      <td>78.824390</td>\n",
       "      <td>1</td>\n",
       "      <td>0</td>\n",
       "      <td>0</td>\n",
       "      <td>0</td>\n",
       "    </tr>\n",
       "    <tr>\n",
       "      <th>14368</th>\n",
       "      <td>Malaysia</td>\n",
       "      <td>MYS</td>\n",
       "      <td>East Asia &amp; Pacific</td>\n",
       "      <td>2014</td>\n",
       "      <td>74.718293</td>\n",
       "      <td>0</td>\n",
       "      <td>0</td>\n",
       "      <td>0</td>\n",
       "      <td>1</td>\n",
       "    </tr>\n",
       "    <tr>\n",
       "      <th>14235</th>\n",
       "      <td>Canada</td>\n",
       "      <td>CAN</td>\n",
       "      <td>North America</td>\n",
       "      <td>2014</td>\n",
       "      <td>81.956610</td>\n",
       "      <td>1</td>\n",
       "      <td>0</td>\n",
       "      <td>0</td>\n",
       "      <td>0</td>\n",
       "    </tr>\n",
       "    <tr>\n",
       "      <th>14381</th>\n",
       "      <td>Oman</td>\n",
       "      <td>OMN</td>\n",
       "      <td>Middle East &amp; North Africa</td>\n",
       "      <td>2014</td>\n",
       "      <td>77.085098</td>\n",
       "      <td>1</td>\n",
       "      <td>0</td>\n",
       "      <td>0</td>\n",
       "      <td>0</td>\n",
       "    </tr>\n",
       "    <tr>\n",
       "      <th>14509</th>\n",
       "      <td>Comoros</td>\n",
       "      <td>COM</td>\n",
       "      <td>Sub-Saharan Africa</td>\n",
       "      <td>2015</td>\n",
       "      <td>63.554024</td>\n",
       "      <td>0</td>\n",
       "      <td>1</td>\n",
       "      <td>0</td>\n",
       "      <td>0</td>\n",
       "    </tr>\n",
       "  </tbody>\n",
       "</table>\n",
       "<p>140 rows × 9 columns</p>\n",
       "</div>"
      ],
      "text/plain": [
       "              country country_code                      region  year  \\\n",
       "187            Poland          POL       Europe & Central Asia  1960   \n",
       "248     United States          USA               North America  1960   \n",
       "444          Pakistan          PAK                  South Asia  1961   \n",
       "274         Australia          AUS         East Asia & Pacific  1961   \n",
       "367         Indonesia          IDN         East Asia & Pacific  1961   \n",
       "...               ...          ...                         ...   ...   \n",
       "14254  Czech Republic          CZE       Europe & Central Asia  2014   \n",
       "14368        Malaysia          MYS         East Asia & Pacific  2014   \n",
       "14235          Canada          CAN               North America  2014   \n",
       "14381            Oman          OMN  Middle East & North Africa  2014   \n",
       "14509         Comoros          COM          Sub-Saharan Africa  2015   \n",
       "\n",
       "       life_expectancy  income_group_High income  income_group_Low income  \\\n",
       "187          67.680488                         1                        0   \n",
       "248          69.770732                         1                        0   \n",
       "444          46.223220                         0                        0   \n",
       "274          70.973171                         1                        0   \n",
       "367          49.269805                         0                        0   \n",
       "...                ...                       ...                      ...   \n",
       "14254        78.824390                         1                        0   \n",
       "14368        74.718293                         0                        0   \n",
       "14235        81.956610                         1                        0   \n",
       "14381        77.085098                         1                        0   \n",
       "14509        63.554024                         0                        1   \n",
       "\n",
       "       income_group_Lower middle income  income_group_Upper middle income  \n",
       "187                                   0                                 0  \n",
       "248                                   0                                 0  \n",
       "444                                   1                                 0  \n",
       "274                                   0                                 0  \n",
       "367                                   1                                 0  \n",
       "...                                 ...                               ...  \n",
       "14254                                 0                                 0  \n",
       "14368                                 0                                 1  \n",
       "14235                                 0                                 0  \n",
       "14381                                 0                                 0  \n",
       "14509                                 0                                 0  \n",
       "\n",
       "[140 rows x 9 columns]"
      ]
     },
     "execution_count": 14,
     "metadata": {},
     "output_type": "execute_result"
    }
   ],
   "source": [
    "dummies = pd.get_dummies(sample.income_group, prefix='income_group')\n",
    "data_with_dummies = sample.drop('income_group', axis=1).join(dummies)\n",
    "data_with_dummies"
   ]
  },
  {
   "cell_type": "markdown",
   "id": "aa5d4bd1",
   "metadata": {},
   "source": [
    "## Creating Model Descriptions with Patsy\n",
    "\n",
    "Patsy is a Python package that allows data transformations using arbitrary Python code.\n",
    "\n",
    "Patsy describes statistical models with a string-based \"formula syntax\":\n",
    "\n",
    "```\n",
    "y ~ x0 + x1\n",
    "```\n",
    "\n",
    "where `x0`, `x1` are terms in the design matrix created for the model. "
   ]
  },
  {
   "cell_type": "code",
   "execution_count": 15,
   "id": "126d823a",
   "metadata": {},
   "outputs": [],
   "source": [
    "outcome, predictors = patsy.dmatrices(\n",
    "    'life_expectancy ~ income_group + region + year', data=sample\n",
    ")"
   ]
  },
  {
   "cell_type": "markdown",
   "id": "4dddf14c",
   "metadata": {},
   "source": [
    "`outcome` is a `DesignMatrix` object that represents `life_expectancy` which is the variable we want to predict."
   ]
  },
  {
   "cell_type": "code",
   "execution_count": 16,
   "id": "17476384",
   "metadata": {
    "scrolled": true
   },
   "outputs": [
    {
     "data": {
      "text/plain": [
       "DesignMatrix with shape (140, 1)\n",
       "  life_expectancy\n",
       "         67.68049\n",
       "         69.77073\n",
       "         46.22322\n",
       "         70.97317\n",
       "         49.26980\n",
       "         59.19907\n",
       "         47.08398\n",
       "         65.13822\n",
       "         68.57780\n",
       "         67.86585\n",
       "         62.05200\n",
       "         36.42517\n",
       "         62.45951\n",
       "         58.78159\n",
       "         44.10078\n",
       "         62.99259\n",
       "         39.80690\n",
       "         47.81127\n",
       "         52.67476\n",
       "         40.49602\n",
       "         64.71500\n",
       "         72.20780\n",
       "         45.31688\n",
       "         51.56868\n",
       "         50.15834\n",
       "         54.96951\n",
       "         54.44346\n",
       "         40.50444\n",
       "         70.29000\n",
       "         61.81917\n",
       "  [110 rows omitted]\n",
       "  Terms:\n",
       "    'life_expectancy' (column 0)\n",
       "  (to view full data, use np.asarray(this_obj))"
      ]
     },
     "execution_count": 16,
     "metadata": {},
     "output_type": "execute_result"
    }
   ],
   "source": [
    "outcome"
   ]
  },
  {
   "cell_type": "markdown",
   "id": "7a7a5a74",
   "metadata": {},
   "source": [
    "`predictors` is a `DesignMatrix` object that represents the combination of `income_group`, `region`, `year`. \n",
    "\n",
    "We have 140 examples, 11 features:\n",
    "\n",
    "* Intercept (column 0): an array of 1s\n",
    "* `income group`: columns 1 - 4\n",
    "* `region`: columns 4-10\n",
    "* `year`: columns 10\n",
    "\n",
    "The extra columns for `income_group` and `regions` are from One-Hot encoding, a process by which categorical variables are converted into a form that could be provided to ML algorithms."
   ]
  },
  {
   "cell_type": "code",
   "execution_count": 17,
   "id": "03d0058d",
   "metadata": {},
   "outputs": [
    {
     "data": {
      "text/plain": [
       "DesignMatrix with shape (140, 11)\n",
       "  Columns:\n",
       "    ['Intercept',\n",
       "     'income_group[T.Low income]',\n",
       "     'income_group[T.Lower middle income]',\n",
       "     'income_group[T.Upper middle income]',\n",
       "     'region[T.Europe & Central Asia]',\n",
       "     'region[T.Latin America & Caribbean]',\n",
       "     'region[T.Middle East & North Africa]',\n",
       "     'region[T.North America]',\n",
       "     'region[T.South Asia]',\n",
       "     'region[T.Sub-Saharan Africa]',\n",
       "     'year']\n",
       "  Terms:\n",
       "    'Intercept' (column 0)\n",
       "    'income_group' (columns 1:4)\n",
       "    'region' (columns 4:10)\n",
       "    'year' (column 10)\n",
       "  (to view full data, use np.asarray(this_obj))"
      ]
     },
     "execution_count": 17,
     "metadata": {},
     "output_type": "execute_result"
    }
   ],
   "source": [
    "predictors"
   ]
  },
  {
   "cell_type": "markdown",
   "id": "553c0994",
   "metadata": {},
   "source": [
    "These Patsy DesignMatrix instances are NumPy ndarrays with additional metadata:"
   ]
  },
  {
   "cell_type": "code",
   "execution_count": 18,
   "id": "a72fa89f",
   "metadata": {
    "scrolled": true
   },
   "outputs": [
    {
     "data": {
      "text/plain": [
       "array([[1.000e+00, 0.000e+00, 0.000e+00, ..., 0.000e+00, 0.000e+00,\n",
       "        1.960e+03],\n",
       "       [1.000e+00, 0.000e+00, 0.000e+00, ..., 0.000e+00, 0.000e+00,\n",
       "        1.960e+03],\n",
       "       [1.000e+00, 0.000e+00, 1.000e+00, ..., 1.000e+00, 0.000e+00,\n",
       "        1.961e+03],\n",
       "       ...,\n",
       "       [1.000e+00, 0.000e+00, 0.000e+00, ..., 0.000e+00, 0.000e+00,\n",
       "        2.014e+03],\n",
       "       [1.000e+00, 0.000e+00, 0.000e+00, ..., 0.000e+00, 0.000e+00,\n",
       "        2.014e+03],\n",
       "       [1.000e+00, 1.000e+00, 0.000e+00, ..., 0.000e+00, 1.000e+00,\n",
       "        2.015e+03]])"
      ]
     },
     "execution_count": 18,
     "metadata": {},
     "output_type": "execute_result"
    }
   ],
   "source": [
    "np.asarray(predictors)"
   ]
  },
  {
   "cell_type": "code",
   "execution_count": 19,
   "id": "2fbbd225",
   "metadata": {
    "scrolled": true
   },
   "outputs": [
    {
     "data": {
      "text/plain": [
       "array([[67.6804878 ],\n",
       "       [69.77073171],\n",
       "       [46.22321951],\n",
       "       [70.97317073],\n",
       "       [49.26980488],\n",
       "       [59.19907317],\n",
       "       [47.08397561],\n",
       "       [65.13821951],\n",
       "       [68.57780488],\n",
       "       [67.86585366],\n",
       "       [62.052     ],\n",
       "       [36.42517073],\n",
       "       [62.4595122 ],\n",
       "       [58.78158537],\n",
       "       [44.10078049],\n",
       "       [62.99258537],\n",
       "       [39.80690244],\n",
       "       [47.81126829],\n",
       "       [52.6747561 ],\n",
       "       [40.49602439],\n",
       "       [64.715     ],\n",
       "       [72.20780488],\n",
       "       [45.31687805],\n",
       "       [51.56868293],\n",
       "       [50.15834146],\n",
       "       [54.9695122 ],\n",
       "       [54.44346341],\n",
       "       [40.50443902],\n",
       "       [70.29      ],\n",
       "       [61.81917073],\n",
       "       [65.26039024],\n",
       "       [63.44317073],\n",
       "       [52.57014634],\n",
       "       [41.08814634],\n",
       "       [72.93390244],\n",
       "       [49.15112195],\n",
       "       [39.2874878 ],\n",
       "       [55.758     ],\n",
       "       [71.95609756],\n",
       "       [69.4997561 ],\n",
       "       [65.27317073],\n",
       "       [69.14282927],\n",
       "       [49.2705122 ],\n",
       "       [72.85609756],\n",
       "       [39.57570732],\n",
       "       [42.60082927],\n",
       "       [48.20839024],\n",
       "       [61.87890244],\n",
       "       [56.39151219],\n",
       "       [72.1047561 ],\n",
       "       [61.92519512],\n",
       "       [62.50690244],\n",
       "       [73.80487805],\n",
       "       [54.14907317],\n",
       "       [52.88729268],\n",
       "       [57.64136585],\n",
       "       [74.75680488],\n",
       "       [72.79165854],\n",
       "       [72.30463415],\n",
       "       [73.70229268],\n",
       "       [55.33439024],\n",
       "       [73.08736585],\n",
       "       [73.21951219],\n",
       "       [58.7997561 ],\n",
       "       [63.19268293],\n",
       "       [60.82295122],\n",
       "       [63.11712195],\n",
       "       [49.82563415],\n",
       "       [68.06341463],\n",
       "       [45.98436585],\n",
       "       [75.        ],\n",
       "       [50.5442439 ],\n",
       "       [55.86090244],\n",
       "       [63.79856098],\n",
       "       [66.79756098],\n",
       "       [70.07663415],\n",
       "       [66.94243902],\n",
       "       [74.76585366],\n",
       "       [41.50802439],\n",
       "       [50.89848781],\n",
       "       [76.80926829],\n",
       "       [42.96207317],\n",
       "       [67.60790244],\n",
       "       [61.70465854],\n",
       "       [69.53434146],\n",
       "       [72.53953658],\n",
       "       [75.21463415],\n",
       "       [75.36585366],\n",
       "       [69.59219512],\n",
       "       [65.48126829],\n",
       "       [70.396     ],\n",
       "       [69.27507317],\n",
       "       [71.90080488],\n",
       "       [60.41880488],\n",
       "       [75.41951219],\n",
       "       [53.52482927],\n",
       "       [73.5357561 ],\n",
       "       [57.59482927],\n",
       "       [77.86195122],\n",
       "       [61.48529268],\n",
       "       [31.63451219],\n",
       "       [48.07760976],\n",
       "       [37.04680488],\n",
       "       [73.92021951],\n",
       "       [71.91039024],\n",
       "       [77.30617073],\n",
       "       [78.71707317],\n",
       "       [47.43409756],\n",
       "       [79.36829268],\n",
       "       [75.21721951],\n",
       "       [77.48780488],\n",
       "       [77.24670732],\n",
       "       [67.3674878 ],\n",
       "       [66.16097561],\n",
       "       [80.29268293],\n",
       "       [61.13973171],\n",
       "       [77.90646342],\n",
       "       [56.00590244],\n",
       "       [69.27785366],\n",
       "       [77.4487561 ],\n",
       "       [73.70243902],\n",
       "       [69.20285366],\n",
       "       [74.81814634],\n",
       "       [74.03841463],\n",
       "       [81.19756098],\n",
       "       [73.58173171],\n",
       "       [78.64146342],\n",
       "       [70.47195122],\n",
       "       [72.72439024],\n",
       "       [80.84634146],\n",
       "       [67.28987805],\n",
       "       [81.40731707],\n",
       "       [80.57243902],\n",
       "       [65.85785366],\n",
       "       [66.18336585],\n",
       "       [78.82439024],\n",
       "       [74.71829268],\n",
       "       [81.95660976],\n",
       "       [77.08509756],\n",
       "       [63.55402439]])"
      ]
     },
     "execution_count": 19,
     "metadata": {},
     "output_type": "execute_result"
    }
   ],
   "source": [
    "np.asarray(outcome)"
   ]
  },
  {
   "cell_type": "markdown",
   "id": "794897df",
   "metadata": {},
   "source": [
    "Suppress the intercept by adding the term + 0 to the model:"
   ]
  },
  {
   "cell_type": "code",
   "execution_count": 21,
   "id": "79d9d059",
   "metadata": {},
   "outputs": [
    {
     "data": {
      "text/plain": [
       "DesignMatrix with shape (140, 11)\n",
       "  Columns:\n",
       "    ['income_group[High income]',\n",
       "     'income_group[Low income]',\n",
       "     'income_group[Lower middle income]',\n",
       "     'income_group[Upper middle income]',\n",
       "     'region[T.Europe & Central Asia]',\n",
       "     'region[T.Latin America & Caribbean]',\n",
       "     'region[T.Middle East & North Africa]',\n",
       "     'region[T.North America]',\n",
       "     'region[T.South Asia]',\n",
       "     'region[T.Sub-Saharan Africa]',\n",
       "     'year']\n",
       "  Terms:\n",
       "    'income_group' (columns 0:4)\n",
       "    'region' (columns 4:10)\n",
       "    'year' (column 10)\n",
       "  (to view full data, use np.asarray(this_obj))"
      ]
     },
     "execution_count": 21,
     "metadata": {},
     "output_type": "execute_result"
    }
   ],
   "source": [
    "y, X = patsy.dmatrices(\n",
    "    'life_expectancy ~ income_group + region + year + 0', data=sample\n",
    ")\n",
    "X"
   ]
  },
  {
   "cell_type": "markdown",
   "id": "a49e4994",
   "metadata": {},
   "source": [
    "The Patsy objects can be passed directly into algorithms like `numpy.linalg.lstsq`, which performs an ordinary least squares regression. The model metadata is retained in the design_info attribute:"
   ]
  },
  {
   "cell_type": "code",
   "execution_count": 22,
   "id": "61293370",
   "metadata": {},
   "outputs": [
    {
     "name": "stderr",
     "output_type": "stream",
     "text": [
      "/tmp/ipykernel_133/2774571045.py:1: FutureWarning: `rcond` parameter will change to the default of machine precision times ``max(M, N)`` where M and N are the input matrix dimensions.\n",
      "To use the future default and silence this warning we advise to pass `rcond=None`, to keep using the old, explicitly pass `rcond=-1`.\n",
      "  coef, resid, _, _ = np.linalg.lstsq(outcome, predictors)\n"
     ]
    },
    {
     "data": {
      "text/plain": [
       "array([[1.51964589e-02, 9.81119953e-04, 4.41412174e-03, 2.65860943e-03,\n",
       "        2.40182610e-03, 2.29746257e-03, 2.26362465e-03, 2.58305159e-03,\n",
       "        1.77260076e-03, 1.76133204e-03, 3.02004208e+01]])"
      ]
     },
     "execution_count": 22,
     "metadata": {},
     "output_type": "execute_result"
    }
   ],
   "source": [
    "coef, resid, _, _ = np.linalg.lstsq(outcome, predictors)\n",
    "coef"
   ]
  },
  {
   "cell_type": "markdown",
   "id": "4e58472e",
   "metadata": {},
   "source": [
    "You can reattach the model column names to the fitted coefficients to obtain a Series, for example:"
   ]
  },
  {
   "cell_type": "code",
   "execution_count": 23,
   "id": "22eb822b",
   "metadata": {},
   "outputs": [
    {
     "ename": "ValueError",
     "evalue": "Length of values (11) does not match length of index (1)",
     "output_type": "error",
     "traceback": [
      "\u001b[0;31m---------------------------------------------------------------------------\u001b[0m",
      "\u001b[0;31mValueError\u001b[0m                                Traceback (most recent call last)",
      "Input \u001b[0;32mIn [23]\u001b[0m, in \u001b[0;36m<cell line: 1>\u001b[0;34m()\u001b[0m\n\u001b[0;32m----> 1\u001b[0m coef \u001b[38;5;241m=\u001b[39m \u001b[43mpd\u001b[49m\u001b[38;5;241;43m.\u001b[39;49m\u001b[43mSeries\u001b[49m\u001b[43m(\u001b[49m\u001b[43mcoef\u001b[49m\u001b[38;5;241;43m.\u001b[39;49m\u001b[43msqueeze\u001b[49m\u001b[43m(\u001b[49m\u001b[43m)\u001b[49m\u001b[43m,\u001b[49m\u001b[43m \u001b[49m\u001b[43mindex\u001b[49m\u001b[38;5;241;43m=\u001b[39;49m\u001b[43moutcome\u001b[49m\u001b[38;5;241;43m.\u001b[39;49m\u001b[43mdesign_info\u001b[49m\u001b[38;5;241;43m.\u001b[39;49m\u001b[43mcolumn_names\u001b[49m\u001b[43m)\u001b[49m\n",
      "File \u001b[0;32m/cloud/lib/lib/python3.9/site-packages/pandas/core/series.py:461\u001b[0m, in \u001b[0;36mSeries.__init__\u001b[0;34m(self, data, index, dtype, name, copy, fastpath)\u001b[0m\n\u001b[1;32m    459\u001b[0m     index \u001b[38;5;241m=\u001b[39m default_index(\u001b[38;5;28mlen\u001b[39m(data))\n\u001b[1;32m    460\u001b[0m \u001b[38;5;28;01melif\u001b[39;00m is_list_like(data):\n\u001b[0;32m--> 461\u001b[0m     \u001b[43mcom\u001b[49m\u001b[38;5;241;43m.\u001b[39;49m\u001b[43mrequire_length_match\u001b[49m\u001b[43m(\u001b[49m\u001b[43mdata\u001b[49m\u001b[43m,\u001b[49m\u001b[43m \u001b[49m\u001b[43mindex\u001b[49m\u001b[43m)\u001b[49m\n\u001b[1;32m    463\u001b[0m \u001b[38;5;66;03m# create/copy the manager\u001b[39;00m\n\u001b[1;32m    464\u001b[0m \u001b[38;5;28;01mif\u001b[39;00m \u001b[38;5;28misinstance\u001b[39m(data, (SingleBlockManager, SingleArrayManager)):\n",
      "File \u001b[0;32m/cloud/lib/lib/python3.9/site-packages/pandas/core/common.py:561\u001b[0m, in \u001b[0;36mrequire_length_match\u001b[0;34m(data, index)\u001b[0m\n\u001b[1;32m    557\u001b[0m \u001b[38;5;124;03m\"\"\"\u001b[39;00m\n\u001b[1;32m    558\u001b[0m \u001b[38;5;124;03mCheck the length of data matches the length of the index.\u001b[39;00m\n\u001b[1;32m    559\u001b[0m \u001b[38;5;124;03m\"\"\"\u001b[39;00m\n\u001b[1;32m    560\u001b[0m \u001b[38;5;28;01mif\u001b[39;00m \u001b[38;5;28mlen\u001b[39m(data) \u001b[38;5;241m!=\u001b[39m \u001b[38;5;28mlen\u001b[39m(index):\n\u001b[0;32m--> 561\u001b[0m     \u001b[38;5;28;01mraise\u001b[39;00m \u001b[38;5;167;01mValueError\u001b[39;00m(\n\u001b[1;32m    562\u001b[0m         \u001b[38;5;124m\"\u001b[39m\u001b[38;5;124mLength of values \u001b[39m\u001b[38;5;124m\"\u001b[39m\n\u001b[1;32m    563\u001b[0m         \u001b[38;5;124mf\u001b[39m\u001b[38;5;124m\"\u001b[39m\u001b[38;5;124m(\u001b[39m\u001b[38;5;132;01m{\u001b[39;00m\u001b[38;5;28mlen\u001b[39m(data)\u001b[38;5;132;01m}\u001b[39;00m\u001b[38;5;124m) \u001b[39m\u001b[38;5;124m\"\u001b[39m\n\u001b[1;32m    564\u001b[0m         \u001b[38;5;124m\"\u001b[39m\u001b[38;5;124mdoes not match length of index \u001b[39m\u001b[38;5;124m\"\u001b[39m\n\u001b[1;32m    565\u001b[0m         \u001b[38;5;124mf\u001b[39m\u001b[38;5;124m\"\u001b[39m\u001b[38;5;124m(\u001b[39m\u001b[38;5;132;01m{\u001b[39;00m\u001b[38;5;28mlen\u001b[39m(index)\u001b[38;5;132;01m}\u001b[39;00m\u001b[38;5;124m)\u001b[39m\u001b[38;5;124m\"\u001b[39m\n\u001b[1;32m    566\u001b[0m     )\n",
      "\u001b[0;31mValueError\u001b[0m: Length of values (11) does not match length of index (1)"
     ]
    }
   ],
   "source": [
    "coef = pd.Series(coef.squeeze(), index=outcome.design_info.column_names)"
   ]
  },
  {
   "cell_type": "markdown",
   "id": "09225d58",
   "metadata": {},
   "source": [
    "### Data Transformations in Patsy Formulas\n",
    "You can mix Python code into your Patsy formulas:"
   ]
  },
  {
   "cell_type": "code",
   "execution_count": 24,
   "id": "151f2be8",
   "metadata": {},
   "outputs": [
    {
     "data": {
      "text/plain": [
       "DesignMatrix with shape (140, 1)\n",
       "  np.round(life_expectancy)\n",
       "                         68\n",
       "                         70\n",
       "                         46\n",
       "                         71\n",
       "                         49\n",
       "                         59\n",
       "                         47\n",
       "                         65\n",
       "                         69\n",
       "                         68\n",
       "                         62\n",
       "                         36\n",
       "                         62\n",
       "                         59\n",
       "                         44\n",
       "                         63\n",
       "                         40\n",
       "                         48\n",
       "                         53\n",
       "                         40\n",
       "                         65\n",
       "                         72\n",
       "                         45\n",
       "                         52\n",
       "                         50\n",
       "                         55\n",
       "                         54\n",
       "                         41\n",
       "                         70\n",
       "                         62\n",
       "  [110 rows omitted]\n",
       "  Terms:\n",
       "    'np.round(life_expectancy)' (column 0)\n",
       "  (to view full data, use np.asarray(this_obj))"
      ]
     },
     "execution_count": 24,
     "metadata": {},
     "output_type": "execute_result"
    }
   ],
   "source": [
    "outcome, predictors = patsy.dmatrices(\n",
    "    'np.round(life_expectancy) ~ income_group + region + year', data=sample\n",
    ")\n",
    "\n",
    "outcome"
   ]
  },
  {
   "cell_type": "markdown",
   "id": "e993d70b",
   "metadata": {},
   "source": [
    "Some commonly used variable transformations include standardizing (to mean 0 and variance 1) and centering (subtracting the mean). Patsy has built-in functions for this purpose:"
   ]
  },
  {
   "cell_type": "code",
   "execution_count": 25,
   "id": "414b0aef",
   "metadata": {},
   "outputs": [
    {
     "data": {
      "text/plain": [
       "DesignMatrix with shape (140, 11)\n",
       "  Columns:\n",
       "    ['Intercept',\n",
       "     'income_group[T.Low income]',\n",
       "     'income_group[T.Lower middle income]',\n",
       "     'income_group[T.Upper middle income]',\n",
       "     'region[T.Europe & Central Asia]',\n",
       "     'region[T.Latin America & Caribbean]',\n",
       "     'region[T.Middle East & North Africa]',\n",
       "     'region[T.North America]',\n",
       "     'region[T.South Asia]',\n",
       "     'region[T.Sub-Saharan Africa]',\n",
       "     'center(year)']\n",
       "  Terms:\n",
       "    'Intercept' (column 0)\n",
       "    'income_group' (columns 1:4)\n",
       "    'region' (columns 4:10)\n",
       "    'center(year)' (column 10)\n",
       "  (to view full data, use np.asarray(this_obj))"
      ]
     },
     "execution_count": 25,
     "metadata": {},
     "output_type": "execute_result"
    }
   ],
   "source": [
    "outcome, predictors = patsy.dmatrices(\n",
    "    'life_expectancy ~ income_group + region + center(year)', data=sample\n",
    ")\n",
    "\n",
    "predictors"
   ]
  },
  {
   "cell_type": "markdown",
   "id": "77e4a959",
   "metadata": {},
   "source": [
    "The patsy.build_design_matrices function can apply transformations to new out-of-sample data using the saved information from the original in-sample dataset:"
   ]
  },
  {
   "cell_type": "code",
   "execution_count": 26,
   "id": "3fb2addc",
   "metadata": {},
   "outputs": [
    {
     "data": {
      "text/plain": [
       "[DesignMatrix with shape (140, 11)\n",
       "   Columns:\n",
       "     ['Intercept',\n",
       "      'income_group[T.Low income]',\n",
       "      'income_group[T.Lower middle income]',\n",
       "      'income_group[T.Upper middle income]',\n",
       "      'region[T.Europe & Central Asia]',\n",
       "      'region[T.Latin America & Caribbean]',\n",
       "      'region[T.Middle East & North Africa]',\n",
       "      'region[T.North America]',\n",
       "      'region[T.South Asia]',\n",
       "      'region[T.Sub-Saharan Africa]',\n",
       "      'center(year)']\n",
       "   Terms:\n",
       "     'Intercept' (column 0)\n",
       "     'income_group' (columns 1:4)\n",
       "     'region' (columns 4:10)\n",
       "     'center(year)' (column 10)\n",
       "   (to view full data, use np.asarray(this_obj))]"
      ]
     },
     "execution_count": 26,
     "metadata": {},
     "output_type": "execute_result"
    }
   ],
   "source": [
    "outcome, predictors = patsy.dmatrices(\n",
    "    'life_expectancy ~ income_group + region + center(year)', data=sample\n",
    ")\n",
    "\n",
    "new_df = df.groupby(\"region\").sample(n=20).sort_values(by=\"year\")\n",
    "\n",
    "new_predictors = patsy.build_design_matrices([predictors.design_info], new_df)\n",
    "\n",
    "new_predictors"
   ]
  },
  {
   "cell_type": "markdown",
   "id": "fec49531",
   "metadata": {},
   "source": [
    "When you want to add columns from a dataset by name, you must wrap them in the special I function:"
   ]
  },
  {
   "cell_type": "code",
   "execution_count": 27,
   "id": "6c2894b6",
   "metadata": {},
   "outputs": [],
   "source": [
    "outcome, predictors = patsy.dmatrices(\n",
    "    'life_expectancy ~ income_group + region + I(year + year)', data=sample # nonsense\n",
    ")"
   ]
  },
  {
   "cell_type": "markdown",
   "id": "17be1de1",
   "metadata": {},
   "source": [
    "## Categorical Data and Patsy\n",
    "\n",
    "When you use nonnumeric terms in a Patsy formula, they are converted to dummy variables by default."
   ]
  },
  {
   "cell_type": "code",
   "execution_count": 28,
   "id": "2ed7d773",
   "metadata": {
    "scrolled": true
   },
   "outputs": [
    {
     "data": {
      "text/plain": [
       "DesignMatrix with shape (140, 11)\n",
       "  Columns:\n",
       "    ['Intercept',\n",
       "     'income_group[T.Low income]',\n",
       "     'income_group[T.Lower middle income]',\n",
       "     'income_group[T.Upper middle income]',\n",
       "     'region[T.Europe & Central Asia]',\n",
       "     'region[T.Latin America & Caribbean]',\n",
       "     'region[T.Middle East & North Africa]',\n",
       "     'region[T.North America]',\n",
       "     'region[T.South Asia]',\n",
       "     'region[T.Sub-Saharan Africa]',\n",
       "     'year']\n",
       "  Terms:\n",
       "    'Intercept' (column 0)\n",
       "    'income_group' (columns 1:4)\n",
       "    'region' (columns 4:10)\n",
       "    'year' (column 10)\n",
       "  (to view full data, use np.asarray(this_obj))"
      ]
     },
     "execution_count": 28,
     "metadata": {},
     "output_type": "execute_result"
    }
   ],
   "source": [
    "outcome, predictors = patsy.dmatrices(\n",
    "    'life_expectancy ~ income_group + region + year', data=sample\n",
    ")\n",
    "\n",
    "predictors"
   ]
  },
  {
   "cell_type": "markdown",
   "id": "e7b9c1bc",
   "metadata": {},
   "source": [
    "If you omit the intercept from the model, then columns for each category value will be included in the model design matrix:"
   ]
  },
  {
   "cell_type": "code",
   "execution_count": 31,
   "id": "921b5eda",
   "metadata": {},
   "outputs": [
    {
     "data": {
      "text/plain": [
       "DesignMatrix with shape (140, 11)\n",
       "  Columns:\n",
       "    ['region[East Asia & Pacific]',\n",
       "     'region[Europe & Central Asia]',\n",
       "     'region[Latin America & Caribbean]',\n",
       "     'region[Middle East & North Africa]',\n",
       "     'region[North America]',\n",
       "     'region[South Asia]',\n",
       "     'region[Sub-Saharan Africa]',\n",
       "     'income_group[T.Low income]',\n",
       "     'income_group[T.Lower middle income]',\n",
       "     'income_group[T.Upper middle income]',\n",
       "     'year']\n",
       "  Terms:\n",
       "    'region' (columns 0:7)\n",
       "    'income_group' (columns 7:10)\n",
       "    'year' (column 10)\n",
       "  (to view full data, use np.asarray(this_obj))"
      ]
     },
     "execution_count": 31,
     "metadata": {},
     "output_type": "execute_result"
    }
   ],
   "source": [
    "outcome, predictors = patsy.dmatrices(\n",
    "    'life_expectancy ~ region + income_group + year + 0', data=sample # will have all levels but only for the FIRST categorical variable\n",
    ")\n",
    "\n",
    "predictors"
   ]
  },
  {
   "cell_type": "markdown",
   "id": "c521480c",
   "metadata": {},
   "source": [
    "Numeric columns can be interpreted as categorical with the C function:"
   ]
  },
  {
   "cell_type": "code",
   "execution_count": 32,
   "id": "49eabe99",
   "metadata": {
    "scrolled": true
   },
   "outputs": [
    {
     "data": {
      "text/plain": [
       "DesignMatrix with shape (140, 60)\n",
       "  Columns:\n",
       "    ['Intercept',\n",
       "     'income_group[T.Low income]',\n",
       "     'income_group[T.Lower middle income]',\n",
       "     'income_group[T.Upper middle income]',\n",
       "     'region[T.Europe & Central Asia]',\n",
       "     'region[T.Latin America & Caribbean]',\n",
       "     'region[T.Middle East & North Africa]',\n",
       "     'region[T.North America]',\n",
       "     'region[T.South Asia]',\n",
       "     'region[T.Sub-Saharan Africa]',\n",
       "     'C(year)[T.1961]',\n",
       "     'C(year)[T.1962]',\n",
       "     'C(year)[T.1963]',\n",
       "     'C(year)[T.1964]',\n",
       "     'C(year)[T.1965]',\n",
       "     'C(year)[T.1967]',\n",
       "     'C(year)[T.1968]',\n",
       "     'C(year)[T.1969]',\n",
       "     'C(year)[T.1970]',\n",
       "     'C(year)[T.1971]',\n",
       "     'C(year)[T.1972]',\n",
       "     'C(year)[T.1973]',\n",
       "     'C(year)[T.1974]',\n",
       "     'C(year)[T.1975]',\n",
       "     'C(year)[T.1976]',\n",
       "     'C(year)[T.1977]',\n",
       "     'C(year)[T.1978]',\n",
       "     'C(year)[T.1979]',\n",
       "     'C(year)[T.1980]',\n",
       "     'C(year)[T.1981]',\n",
       "     'C(year)[T.1982]',\n",
       "     'C(year)[T.1983]',\n",
       "     'C(year)[T.1984]',\n",
       "     'C(year)[T.1985]',\n",
       "     'C(year)[T.1986]',\n",
       "     'C(year)[T.1987]',\n",
       "     'C(year)[T.1988]',\n",
       "     'C(year)[T.1989]',\n",
       "     'C(year)[T.1990]',\n",
       "     'C(year)[T.1991]',\n",
       "     'C(year)[T.1992]',\n",
       "     'C(year)[T.1993]',\n",
       "     'C(year)[T.1994]',\n",
       "     'C(year)[T.1995]',\n",
       "     'C(year)[T.1996]',\n",
       "     'C(year)[T.1998]',\n",
       "     'C(year)[T.1999]',\n",
       "     'C(year)[T.2001]',\n",
       "     'C(year)[T.2003]',\n",
       "     'C(year)[T.2004]',\n",
       "     'C(year)[T.2006]',\n",
       "     'C(year)[T.2007]',\n",
       "     'C(year)[T.2008]',\n",
       "     'C(year)[T.2009]',\n",
       "     'C(year)[T.2010]',\n",
       "     'C(year)[T.2011]',\n",
       "     'C(year)[T.2012]',\n",
       "     'C(year)[T.2013]',\n",
       "     'C(year)[T.2014]',\n",
       "     'C(year)[T.2015]']\n",
       "  Terms:\n",
       "    'Intercept' (column 0)\n",
       "    'income_group' (columns 1:4)\n",
       "    'region' (columns 4:10)\n",
       "    'C(year)' (columns 10:60)\n",
       "  (to view full data, use np.asarray(this_obj))"
      ]
     },
     "execution_count": 32,
     "metadata": {},
     "output_type": "execute_result"
    }
   ],
   "source": [
    "outcome, predictors = patsy.dmatrices(\n",
    "    'life_expectancy ~ income_group + region + C(year)', data=sample\n",
    ")\n",
    "\n",
    "predictors"
   ]
  },
  {
   "cell_type": "markdown",
   "id": "deb69c77",
   "metadata": {},
   "source": [
    "Include interaction terms of the form `key1:key2`:"
   ]
  },
  {
   "cell_type": "code",
   "execution_count": 33,
   "id": "06586b1c",
   "metadata": {
    "scrolled": true
   },
   "outputs": [
    {
     "data": {
      "text/plain": [
       "DesignMatrix with shape (140, 29)\n",
       "  Columns:\n",
       "    ['Intercept',\n",
       "     'income_group[T.Low income]',\n",
       "     'income_group[T.Lower middle income]',\n",
       "     'income_group[T.Upper middle income]',\n",
       "     'region[T.Europe & Central Asia]',\n",
       "     'region[T.Latin America & Caribbean]',\n",
       "     'region[T.Middle East & North Africa]',\n",
       "     'region[T.North America]',\n",
       "     'region[T.South Asia]',\n",
       "     'region[T.Sub-Saharan Africa]',\n",
       "     'income_group[T.Low income]:region[T.Europe & Central Asia]',\n",
       "     'income_group[T.Lower middle income]:region[T.Europe & Central Asia]',\n",
       "     'income_group[T.Upper middle income]:region[T.Europe & Central Asia]',\n",
       "     'income_group[T.Low income]:region[T.Latin America & Caribbean]',\n",
       "     'income_group[T.Lower middle income]:region[T.Latin America & Caribbean]',\n",
       "     'income_group[T.Upper middle income]:region[T.Latin America & Caribbean]',\n",
       "     'income_group[T.Low income]:region[T.Middle East & North Africa]',\n",
       "     'income_group[T.Lower middle income]:region[T.Middle East & North Africa]',\n",
       "     'income_group[T.Upper middle income]:region[T.Middle East & North Africa]',\n",
       "     'income_group[T.Low income]:region[T.North America]',\n",
       "     'income_group[T.Lower middle income]:region[T.North America]',\n",
       "     'income_group[T.Upper middle income]:region[T.North America]',\n",
       "     'income_group[T.Low income]:region[T.South Asia]',\n",
       "     'income_group[T.Lower middle income]:region[T.South Asia]',\n",
       "     'income_group[T.Upper middle income]:region[T.South Asia]',\n",
       "     'income_group[T.Low income]:region[T.Sub-Saharan Africa]',\n",
       "     'income_group[T.Lower middle income]:region[T.Sub-Saharan Africa]',\n",
       "     'income_group[T.Upper middle income]:region[T.Sub-Saharan Africa]',\n",
       "     'year']\n",
       "  Terms:\n",
       "    'Intercept' (column 0)\n",
       "    'income_group' (columns 1:4)\n",
       "    'region' (columns 4:10)\n",
       "    'income_group:region' (columns 10:28)\n",
       "    'year' (column 28)\n",
       "  (to view full data, use np.asarray(this_obj))"
      ]
     },
     "execution_count": 33,
     "metadata": {},
     "output_type": "execute_result"
    }
   ],
   "source": [
    "outcome, predictors = patsy.dmatrices(\n",
    "    'life_expectancy ~ income_group + region + year + income_group:region', data=sample\n",
    ")\n",
    "\n",
    "predictors"
   ]
  },
  {
   "cell_type": "markdown",
   "id": "637ed2bb",
   "metadata": {},
   "source": [
    "## Introduction to statsmodels\n",
    "\n",
    "statsmodels is a Python library for fitting many kinds of statistical models, performing statistical tests, and data exploration and visualization.\n",
    "\n",
    "* Linear models, generalized linear models, and robust linear models\n",
    "* Linear mixed effects models\n",
    "* Analysis of variance (ANOVA) methods\n",
    "* Time series processes and state space models\n",
    "* Generalized method of moments\n",
    "\n",
    "The sm.add_constant function can add an intercept column to an existing matrix:"
   ]
  },
  {
   "cell_type": "code",
   "execution_count": null,
   "id": "7c47eb74",
   "metadata": {},
   "outputs": [],
   "source": [
    "predictor_model = sm.add_constant(predictors)\n",
    "predictor_model"
   ]
  },
  {
   "cell_type": "markdown",
   "id": "645a6d65",
   "metadata": {},
   "source": [
    "The sm.OLS class can fit an ordinary least squares linear regression. The model's fit method returns a regression results object containing estimated model parameters and other diagnostics:"
   ]
  },
  {
   "cell_type": "code",
   "execution_count": 34,
   "id": "b0caf599",
   "metadata": {},
   "outputs": [],
   "source": [
    "outcome, predictors = patsy.dmatrices(\n",
    "    'life_expectancy ~ income_group + region + year', data=sample\n",
    ")\n",
    "\n",
    "predictors_org = np.asarray(predictors)\n",
    "\n",
    "rng = np.random.default_rng(seed=12345)\n",
    "\n",
    "def dnorm(mean, variance, size=1):\n",
    "    if isinstance(size, int):\n",
    "        size = size,\n",
    "    return mean + np.sqrt(variance) * rng.standard_normal(*size)\n",
    "\n",
    "predictors = np.c_[np.hstack(tuple(predictors_org[:, [2]])),\n",
    "                   np.hstack(tuple(predictors_org[:, [0]])),\n",
    "                   np.hstack(tuple(predictors_org[:, [1]]))]\n",
    "\n",
    "predictors = np.asarray(predictors)\n",
    "\n",
    "eps = dnorm(0, 0.1, size=len(sample))\n",
    "beta = dnorm(45,82, size=3)\n",
    "\n",
    "outcome = np.dot(predictors, beta) + eps"
   ]
  },
  {
   "cell_type": "code",
   "execution_count": 35,
   "id": "1b0d6932",
   "metadata": {},
   "outputs": [],
   "source": [
    "X_model = sm.add_constant(X)"
   ]
  },
  {
   "cell_type": "code",
   "execution_count": 36,
   "id": "030b8865",
   "metadata": {},
   "outputs": [],
   "source": [
    "model = sm.OLS(y, X)"
   ]
  },
  {
   "cell_type": "code",
   "execution_count": 37,
   "id": "7d0471ee",
   "metadata": {
    "scrolled": true
   },
   "outputs": [
    {
     "name": "stdout",
     "output_type": "stream",
     "text": [
      "                            OLS Regression Results                            \n",
      "==============================================================================\n",
      "Dep. Variable:        life_expectancy   R-squared:                       0.835\n",
      "Model:                            OLS   Adj. R-squared:                  0.823\n",
      "Method:                 Least Squares   F-statistic:                     65.48\n",
      "Date:                Fri, 28 Oct 2022   Prob (F-statistic):           1.19e-45\n",
      "Time:                        20:29:40   Log-Likelihood:                -420.62\n",
      "No. Observations:                 140   AIC:                             863.2\n",
      "Df Residuals:                     129   BIC:                             895.6\n",
      "Df Model:                          10                                         \n",
      "Covariance Type:            nonrobust                                         \n",
      "========================================================================================================\n",
      "                                           coef    std err          t      P>|t|      [0.025      0.975]\n",
      "--------------------------------------------------------------------------------------------------------\n",
      "income_group[High income]             -601.0677     53.808    -11.171      0.000    -707.527    -494.608\n",
      "income_group[Low income]              -620.7862     53.651    -11.571      0.000    -726.936    -514.637\n",
      "income_group[Lower middle income]     -609.9033     53.643    -11.370      0.000    -716.038    -503.769\n",
      "income_group[Upper middle income]     -606.9144     53.554    -11.333      0.000    -712.872    -500.957\n",
      "region[T.Europe & Central Asia]          5.3402      1.741      3.066      0.003       1.895       8.786\n",
      "region[T.Latin America & Caribbean]      3.2563      1.712      1.903      0.059      -0.130       6.643\n",
      "region[T.Middle East & North Africa]     1.4021      1.675      0.837      0.404      -1.913       4.717\n",
      "region[T.North America]                  6.2191      1.894      3.283      0.001       2.471       9.967\n",
      "region[T.South Asia]                    -4.7101      1.684     -2.797      0.006      -8.042      -1.378\n",
      "region[T.Sub-Saharan Africa]            -5.0216      1.824     -2.753      0.007      -8.630      -1.413\n",
      "year                                     0.3371      0.027     12.481      0.000       0.284       0.391\n",
      "==============================================================================\n",
      "Omnibus:                       11.871   Durbin-Watson:                   1.996\n",
      "Prob(Omnibus):                  0.003   Jarque-Bera (JB):               13.271\n",
      "Skew:                          -0.586   Prob(JB):                      0.00131\n",
      "Kurtosis:                       3.950   Cond. No.                     4.96e+05\n",
      "==============================================================================\n",
      "\n",
      "Notes:\n",
      "[1] Standard Errors assume that the covariance matrix of the errors is correctly specified.\n",
      "[2] The condition number is large, 4.96e+05. This might indicate that there are\n",
      "strong multicollinearity or other numerical problems.\n"
     ]
    }
   ],
   "source": [
    "results = model.fit()\n",
    "print(results.summary())"
   ]
  },
  {
   "cell_type": "code",
   "execution_count": 38,
   "id": "00bfd7bb",
   "metadata": {},
   "outputs": [
    {
     "data": {
      "text/plain": [
       "Intercept                              -601.067727\n",
       "income_group[T.Low income]              -19.718427\n",
       "income_group[T.Lower middle income]      -8.835585\n",
       "income_group[T.Upper middle income]      -5.846721\n",
       "region[T.Europe & Central Asia]           5.340173\n",
       "region[T.Latin America & Caribbean]       3.256349\n",
       "region[T.Middle East & North Africa]      1.402143\n",
       "region[T.North America]                   6.219114\n",
       "region[T.South Asia]                     -4.710066\n",
       "region[T.Sub-Saharan Africa]             -5.021556\n",
       "year                                      0.337079\n",
       "dtype: float64"
      ]
     },
     "execution_count": 38,
     "metadata": {},
     "output_type": "execute_result"
    }
   ],
   "source": [
    "results = smf.ols('life_expectancy ~ income_group + region + year', data=sample).fit()\n",
    "results.params"
   ]
  },
  {
   "cell_type": "code",
   "execution_count": 39,
   "id": "4b610642",
   "metadata": {},
   "outputs": [
    {
     "data": {
      "text/plain": [
       "Intercept                              -11.170682\n",
       "income_group[T.Low income]              -9.011465\n",
       "income_group[T.Lower middle income]     -6.207760\n",
       "income_group[T.Upper middle income]     -4.309918\n",
       "region[T.Europe & Central Asia]          3.066470\n",
       "region[T.Latin America & Caribbean]      1.902550\n",
       "region[T.Middle East & North Africa]     0.836912\n",
       "region[T.North America]                  3.283279\n",
       "region[T.South Asia]                    -2.797053\n",
       "region[T.Sub-Saharan Africa]            -2.753270\n",
       "year                                    12.480643\n",
       "dtype: float64"
      ]
     },
     "execution_count": 39,
     "metadata": {},
     "output_type": "execute_result"
    }
   ],
   "source": [
    "results.tvalues"
   ]
  },
  {
   "cell_type": "code",
   "execution_count": 40,
   "id": "9ff1b2fd",
   "metadata": {},
   "outputs": [
    {
     "data": {
      "text/plain": [
       "187    64.948099\n",
       "248    65.827040\n",
       "444    46.399354\n",
       "274    59.945005\n",
       "367    51.109421\n",
       "dtype: float64"
      ]
     },
     "execution_count": 40,
     "metadata": {},
     "output_type": "execute_result"
    }
   ],
   "source": [
    "results.predict(sample[:5])"
   ]
  },
  {
   "cell_type": "markdown",
   "id": "bc2bc15c",
   "metadata": {},
   "source": [
    "## Estimating Time Series Processes\n",
    "\n",
    "Another class of models in statsmodels is for time series analysis. "
   ]
  },
  {
   "cell_type": "code",
   "execution_count": 41,
   "id": "89121562",
   "metadata": {},
   "outputs": [
    {
     "data": {
      "text/plain": [
       "array([ 0.01141668,  0.8278958 , -0.42492365, -0.01487685,  0.03721318,\n",
       "       -0.03644228])"
      ]
     },
     "execution_count": 41,
     "metadata": {},
     "output_type": "execute_result"
    }
   ],
   "source": [
    "init_x = 4\n",
    "\n",
    "values = [init_x, init_x]\n",
    "N = 1000\n",
    "\n",
    "# AR(2) structure with two lags\n",
    "b0 = 0.8\n",
    "b1 = -0.4\n",
    "noise = dnorm(0, 0.1, N)\n",
    "for i in range(N):\n",
    "    new_x = values[-1] * b0 + values[-2] * b1 + noise[i]\n",
    "    values.append(new_x)\n",
    "    \n",
    "# fit with more lags\n",
    "\n",
    "MAXLAGS = 5\n",
    "model = AutoReg(values, MAXLAGS)\n",
    "results = model.fit()\n",
    "results.params"
   ]
  },
  {
   "cell_type": "markdown",
   "id": "90200d51",
   "metadata": {},
   "source": [
    "## Introduction to scikit-learn\n",
    "\n",
    "scikit-learn is one of the most widely used and trusted general-purpose Python machine learning toolkits. \n"
   ]
  },
  {
   "cell_type": "code",
   "execution_count": 42,
   "id": "87bd3ba3",
   "metadata": {},
   "outputs": [],
   "source": [
    "X_train, X_test, y_train, y_test = train_test_split(\n",
    "    sample[['income_group', 'region', 'year']], sample[['life_expectancy']], test_size=0.2, random_state=42)"
   ]
  },
  {
   "cell_type": "code",
   "execution_count": 43,
   "id": "cce1309f",
   "metadata": {},
   "outputs": [
    {
     "name": "stdout",
     "output_type": "stream",
     "text": [
      "income_group    0\n",
      "region          0\n",
      "year            0\n",
      "dtype: int64\n",
      "life_expectancy    0\n",
      "dtype: int64\n"
     ]
    }
   ],
   "source": [
    "# make sure there are no missing values\n",
    "\n",
    "print(X_test.isna().sum())\n",
    "print(y_test.isna().sum())"
   ]
  },
  {
   "cell_type": "code",
   "execution_count": 44,
   "id": "363c22d0",
   "metadata": {},
   "outputs": [],
   "source": [
    "# can also do it with patsy\n",
    "\n",
    "outcome, predictors = patsy.dmatrices(\n",
    "    'life_expectancy ~ income_group + region + year', data=sample\n",
    ")\n",
    "\n",
    "X_train, X_test, y_train, y_test = train_test_split(\n",
    "    predictors, outcome, test_size=0.2, random_state=42)\n",
    "\n",
    "y_train = y_train.squeeze()\n",
    "y_test = y_test.squeeze()"
   ]
  },
  {
   "cell_type": "code",
   "execution_count": null,
   "id": "e6dd4ee5",
   "metadata": {},
   "outputs": [],
   "source": [
    "# impute_value = train['Age'].median()\n",
    "# train['Age'] = train['Age'].fillna(impute_value)\n",
    "# test['Age'] = test['Age'].fillna(impute_value)"
   ]
  },
  {
   "cell_type": "code",
   "execution_count": 45,
   "id": "0ff89b5c",
   "metadata": {},
   "outputs": [
    {
     "data": {
      "text/html": [
       "<style>#sk-container-id-1 {color: black;background-color: white;}#sk-container-id-1 pre{padding: 0;}#sk-container-id-1 div.sk-toggleable {background-color: white;}#sk-container-id-1 label.sk-toggleable__label {cursor: pointer;display: block;width: 100%;margin-bottom: 0;padding: 0.3em;box-sizing: border-box;text-align: center;}#sk-container-id-1 label.sk-toggleable__label-arrow:before {content: \"▸\";float: left;margin-right: 0.25em;color: #696969;}#sk-container-id-1 label.sk-toggleable__label-arrow:hover:before {color: black;}#sk-container-id-1 div.sk-estimator:hover label.sk-toggleable__label-arrow:before {color: black;}#sk-container-id-1 div.sk-toggleable__content {max-height: 0;max-width: 0;overflow: hidden;text-align: left;background-color: #f0f8ff;}#sk-container-id-1 div.sk-toggleable__content pre {margin: 0.2em;color: black;border-radius: 0.25em;background-color: #f0f8ff;}#sk-container-id-1 input.sk-toggleable__control:checked~div.sk-toggleable__content {max-height: 200px;max-width: 100%;overflow: auto;}#sk-container-id-1 input.sk-toggleable__control:checked~label.sk-toggleable__label-arrow:before {content: \"▾\";}#sk-container-id-1 div.sk-estimator input.sk-toggleable__control:checked~label.sk-toggleable__label {background-color: #d4ebff;}#sk-container-id-1 div.sk-label input.sk-toggleable__control:checked~label.sk-toggleable__label {background-color: #d4ebff;}#sk-container-id-1 input.sk-hidden--visually {border: 0;clip: rect(1px 1px 1px 1px);clip: rect(1px, 1px, 1px, 1px);height: 1px;margin: -1px;overflow: hidden;padding: 0;position: absolute;width: 1px;}#sk-container-id-1 div.sk-estimator {font-family: monospace;background-color: #f0f8ff;border: 1px dotted black;border-radius: 0.25em;box-sizing: border-box;margin-bottom: 0.5em;}#sk-container-id-1 div.sk-estimator:hover {background-color: #d4ebff;}#sk-container-id-1 div.sk-parallel-item::after {content: \"\";width: 100%;border-bottom: 1px solid gray;flex-grow: 1;}#sk-container-id-1 div.sk-label:hover label.sk-toggleable__label {background-color: #d4ebff;}#sk-container-id-1 div.sk-serial::before {content: \"\";position: absolute;border-left: 1px solid gray;box-sizing: border-box;top: 0;bottom: 0;left: 50%;z-index: 0;}#sk-container-id-1 div.sk-serial {display: flex;flex-direction: column;align-items: center;background-color: white;padding-right: 0.2em;padding-left: 0.2em;position: relative;}#sk-container-id-1 div.sk-item {position: relative;z-index: 1;}#sk-container-id-1 div.sk-parallel {display: flex;align-items: stretch;justify-content: center;background-color: white;position: relative;}#sk-container-id-1 div.sk-item::before, #sk-container-id-1 div.sk-parallel-item::before {content: \"\";position: absolute;border-left: 1px solid gray;box-sizing: border-box;top: 0;bottom: 0;left: 50%;z-index: -1;}#sk-container-id-1 div.sk-parallel-item {display: flex;flex-direction: column;z-index: 1;position: relative;background-color: white;}#sk-container-id-1 div.sk-parallel-item:first-child::after {align-self: flex-end;width: 50%;}#sk-container-id-1 div.sk-parallel-item:last-child::after {align-self: flex-start;width: 50%;}#sk-container-id-1 div.sk-parallel-item:only-child::after {width: 0;}#sk-container-id-1 div.sk-dashed-wrapped {border: 1px dashed gray;margin: 0 0.4em 0.5em 0.4em;box-sizing: border-box;padding-bottom: 0.4em;background-color: white;}#sk-container-id-1 div.sk-label label {font-family: monospace;font-weight: bold;display: inline-block;line-height: 1.2em;}#sk-container-id-1 div.sk-label-container {text-align: center;}#sk-container-id-1 div.sk-container {/* jupyter's `normalize.less` sets `[hidden] { display: none; }` but bootstrap.min.css set `[hidden] { display: none !important; }` so we also need the `!important` here to be able to override the default hidden behavior on the sphinx rendered scikit-learn.org. See: https://github.com/scikit-learn/scikit-learn/issues/21755 */display: inline-block !important;position: relative;}#sk-container-id-1 div.sk-text-repr-fallback {display: none;}</style><div id=\"sk-container-id-1\" class=\"sk-top-container\"><div class=\"sk-text-repr-fallback\"><pre>LinearRegression()</pre><b>In a Jupyter environment, please rerun this cell to show the HTML representation or trust the notebook. <br />On GitHub, the HTML representation is unable to render, please try loading this page with nbviewer.org.</b></div><div class=\"sk-container\" hidden><div class=\"sk-item\"><div class=\"sk-estimator sk-toggleable\"><input class=\"sk-toggleable__control sk-hidden--visually\" id=\"sk-estimator-id-1\" type=\"checkbox\" checked><label for=\"sk-estimator-id-1\" class=\"sk-toggleable__label sk-toggleable__label-arrow\">LinearRegression</label><div class=\"sk-toggleable__content\"><pre>LinearRegression()</pre></div></div></div></div></div>"
      ],
      "text/plain": [
       "LinearRegression()"
      ]
     },
     "execution_count": 45,
     "metadata": {},
     "output_type": "execute_result"
    }
   ],
   "source": [
    "model = LinearRegression().fit(X_train, y_train)\n",
    "model.fit(X_train, y_train)"
   ]
  },
  {
   "cell_type": "code",
   "execution_count": 46,
   "id": "99e189b9",
   "metadata": {
    "scrolled": true
   },
   "outputs": [
    {
     "data": {
      "text/plain": [
       "array([78.63905681, 41.6710372 , 61.07560873, 77.12346239, 56.24225717,\n",
       "       60.82576811, 42.99395169, 41.6710372 , 74.1469048 , 75.46981928,\n",
       "       75.04709887, 71.69375575, 63.94037441, 51.82387157, 83.87519146,\n",
       "       42.66322307, 35.6275935 , 37.94269386, 63.56521171, 80.89863386,\n",
       "       50.99752407, 62.57302584, 58.22662891, 51.61205646, 77.52772236,\n",
       "       52.57565731, 79.10783413, 73.92796809])"
      ]
     },
     "execution_count": 46,
     "metadata": {},
     "output_type": "execute_result"
    }
   ],
   "source": [
    "y_predict = model.predict(X_test)\n",
    "y_predict"
   ]
  },
  {
   "cell_type": "code",
   "execution_count": 49,
   "id": "c5f72a8c",
   "metadata": {},
   "outputs": [
    {
     "data": {
      "text/plain": [
       "DesignMatrix with shape (140, 1)\n",
       "  life_expectancy\n",
       "         67.68049\n",
       "         69.77073\n",
       "         46.22322\n",
       "         70.97317\n",
       "         49.26980\n",
       "         59.19907\n",
       "         47.08398\n",
       "         65.13822\n",
       "         68.57780\n",
       "         67.86585\n",
       "         62.05200\n",
       "         36.42517\n",
       "         62.45951\n",
       "         58.78159\n",
       "         44.10078\n",
       "         62.99259\n",
       "         39.80690\n",
       "         47.81127\n",
       "         52.67476\n",
       "         40.49602\n",
       "         64.71500\n",
       "         72.20780\n",
       "         45.31688\n",
       "         51.56868\n",
       "         50.15834\n",
       "         54.96951\n",
       "         54.44346\n",
       "         40.50444\n",
       "         70.29000\n",
       "         61.81917\n",
       "  [110 rows omitted]\n",
       "  Terms:\n",
       "    'life_expectancy' (column 0)\n",
       "  (to view full data, use np.asarray(this_obj))"
      ]
     },
     "execution_count": 49,
     "metadata": {},
     "output_type": "execute_result"
    }
   ],
   "source": [
    "outcome"
   ]
  },
  {
   "cell_type": "markdown",
   "id": "5630bc00",
   "metadata": {},
   "source": [
    "## Going rogue\n",
    "\n",
    "Using yellowbrick:\n",
    "    \n",
    "* y is the real avalues\n",
    "* y hat is predicted\n",
    "* black dotted line is fitted line created by the model\n",
    "* grey dotted line is if the predicted values == real values"
   ]
  },
  {
   "cell_type": "code",
   "execution_count": 48,
   "id": "5d0b74fd",
   "metadata": {},
   "outputs": [
    {
     "data": {
      "image/png": "[encoded data removed]",
      "text/plain": [
       "<Figure size 432x288 with 1 Axes>"
      ]
     },
     "metadata": {
      "needs_background": "light"
     },
     "output_type": "display_data"
    }
   ],
   "source": [
    "model = LinearRegression()\n",
    "visualizer = prediction_error(model, X_train, y_train, X_test, y_test)"
   ]
  }
 ],
 "metadata": {
  "kernelspec": {
   "display_name": "Python 3 (ipykernel)",
   "language": "python",
   "name": "python3"
  },
  "language_info": {
   "codemirror_mode": {
    "name": "ipython",
    "version": 3
   },
   "file_extension": ".py",
   "mimetype": "text/x-python",
   "name": "python",
   "nbconvert_exporter": "python",
   "pygments_lexer": "ipython3",
   "version": "3.9.13"
  }
 },
 "nbformat": 4,
 "nbformat_minor": 5
}
